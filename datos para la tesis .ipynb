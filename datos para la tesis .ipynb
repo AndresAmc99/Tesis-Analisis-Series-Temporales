{
 "cells": [
  {
   "cell_type": "code",
   "execution_count": 1,
   "id": "55da31fc",
   "metadata": {},
   "outputs": [],
   "source": [
    "#pip install python-binance"
   ]
  },
  {
   "cell_type": "code",
   "execution_count": 2,
   "id": "b2d5236d",
   "metadata": {},
   "outputs": [],
   "source": [
    "# Librerias \n",
    "from datetime import date, timedelta\n",
    "import pandas as pd\n",
    "from binance import Client"
   ]
  },
  {
   "cell_type": "code",
   "execution_count": 3,
   "id": "0d2dfc7d",
   "metadata": {},
   "outputs": [],
   "source": [
    "today = date.today()\n",
    "yesterday = today - timedelta(days=1)"
   ]
  },
  {
   "cell_type": "code",
   "execution_count": 4,
   "id": "62a4f550",
   "metadata": {},
   "outputs": [
    {
     "name": "stdout",
     "output_type": "stream",
     "text": [
      "{'symbol': 'BTCUSDT', 'price': '28035.76000000'}\n",
      "                Open      High       Low     Close        Volume\n",
      "Date                                                            \n",
      "2017-08-17   4261.48   4485.39   4200.74   4285.08    795.150377\n",
      "2017-08-18   4285.08   4371.52   3938.77   4108.37   1199.888264\n",
      "2017-08-19   4108.37   4184.69   3850.00   4139.98    381.309763\n",
      "2017-08-20   4120.98   4211.08   4032.62   4086.29    467.083022\n",
      "2017-08-21   4069.13   4119.62   3911.79   4016.00    691.743060\n",
      "...              ...       ...       ...       ...           ...\n",
      "2023-04-27  28415.29  29890.00  28378.86  29472.77  95430.824310\n",
      "2023-04-28  29472.77  29599.54  28891.00  29311.70  54298.165780\n",
      "2023-04-29  29311.69  29448.88  29031.00  29230.45  20466.830580\n",
      "2023-04-30  29230.45  29969.39  29079.59  29233.21  39752.537200\n",
      "2023-05-01  29233.20  29337.34  27666.95  28068.26  64433.659580\n",
      "\n",
      "[2084 rows x 5 columns]\n",
      "Data extraction finished :)\n",
      "{'symbol': 'ETHUSDT', 'price': '1832.06000000'}\n",
      "               Open     High      Low    Close        Volume\n",
      "Date                                                        \n",
      "2017-08-17   301.13   312.18   298.00   302.00    7030.71034\n",
      "2017-08-18   302.00   311.79   283.94   293.96    9537.84646\n",
      "2017-08-19   293.31   299.90   278.00   290.91    2146.19773\n",
      "2017-08-20   289.41   300.53   282.85   299.10    2510.13871\n",
      "2017-08-21   299.10   346.52   294.60   323.29    5219.44542\n",
      "...             ...      ...      ...      ...           ...\n",
      "2023-04-27  1866.01  1940.96  1861.19  1908.68  727472.94660\n",
      "2023-04-28  1908.68  1923.88  1873.94  1890.94  387630.77910\n",
      "2023-04-29  1890.93  1918.00  1883.05  1907.80  182046.14060\n",
      "2023-04-30  1907.79  1939.00  1866.16  1870.09  355336.48880\n",
      "2023-05-01  1870.08  1886.49  1806.12  1830.73  445519.17790\n",
      "\n",
      "[2084 rows x 5 columns]\n",
      "Data extraction finished :)\n"
     ]
    }
   ],
   "source": [
    "def criptodata(dataticker):\n",
    "    api_key = \"bpjgwQWmh9BiYlTcs0TZrxIkaYH82IASzbvrdXbE4OWfxy1hyLu5U7JU7HBHwepp\"\n",
    "    api_secret = \"tkMWtN17QztahzWZCzW1Sg5NyOUHUwaoK1V9SXvTusf8x062E3z32v6gKK0ceSN3\"\n",
    "    #Se saca en: https://testnet.binance.vision/\n",
    "    client = Client(api_key, api_secret)\n",
    "    price = client.get_symbol_ticker(symbol=dataticker)\n",
    "    print(price)\n",
    "    asset = dataticker\n",
    "    start = \"2008.01.01\"\n",
    "    end = str(yesterday)\n",
    "    timeframe = \"1d\"\n",
    "    df = pd.DataFrame(client.get_historical_klines(asset,timeframe,start,end))\n",
    "    df = df.iloc[:,:6]\n",
    "    df.columns = [\"Date\",\"Open\",\"High\",\"Low\",\"Close\",\"Volume\"]\n",
    "    df = df.set_index(\"Date\")\n",
    "    df.index = pd.to_datetime(df.index, unit=\"ms\")\n",
    "    df = df.astype(\"float\")\n",
    "    print(df)\n",
    " #save to csv:\n",
    "    df.to_csv(dataticker + \".csv\", encoding='utf-8')\n",
    "    print(\"Data extraction finished :)\")\n",
    "list = [\"BTCUSDT\",\"ETHUSDT\"]\n",
    "for i in list:\n",
    "    criptodata(i)"
   ]
  },
  {
   "cell_type": "code",
   "execution_count": null,
   "id": "614ce670",
   "metadata": {},
   "outputs": [],
   "source": []
  },
  {
   "cell_type": "code",
   "execution_count": null,
   "id": "07a846ca",
   "metadata": {},
   "outputs": [],
   "source": []
  },
  {
   "cell_type": "code",
   "execution_count": null,
   "id": "390cbccd",
   "metadata": {},
   "outputs": [],
   "source": []
  },
  {
   "cell_type": "code",
   "execution_count": null,
   "id": "3a9d0ddb",
   "metadata": {},
   "outputs": [],
   "source": []
  },
  {
   "cell_type": "code",
   "execution_count": null,
   "id": "500df52e",
   "metadata": {},
   "outputs": [],
   "source": []
  },
  {
   "cell_type": "code",
   "execution_count": null,
   "id": "0a905f29",
   "metadata": {},
   "outputs": [],
   "source": []
  },
  {
   "cell_type": "code",
   "execution_count": null,
   "id": "f1acc5ba",
   "metadata": {},
   "outputs": [],
   "source": []
  },
  {
   "cell_type": "code",
   "execution_count": null,
   "id": "207b4455",
   "metadata": {},
   "outputs": [],
   "source": []
  }
 ],
 "metadata": {
  "kernelspec": {
   "display_name": "Python 3 (ipykernel)",
   "language": "python",
   "name": "python3"
  },
  "language_info": {
   "codemirror_mode": {
    "name": "ipython",
    "version": 3
   },
   "file_extension": ".py",
   "mimetype": "text/x-python",
   "name": "python",
   "nbconvert_exporter": "python",
   "pygments_lexer": "ipython3",
   "version": "3.9.7"
  }
 },
 "nbformat": 4,
 "nbformat_minor": 5
}
