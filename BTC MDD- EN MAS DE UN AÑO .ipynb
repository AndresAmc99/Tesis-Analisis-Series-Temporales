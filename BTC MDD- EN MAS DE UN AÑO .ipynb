{
 "cells": [
  {
   "cell_type": "code",
   "execution_count": 1,
   "id": "186e659d",
   "metadata": {},
   "outputs": [],
   "source": [
    "# Tratamiento de datos\n",
    "# ==============================================================================\n",
    "import pandas as pd\n",
    "import numpy as np\n",
    "import datetime\n",
    "from cryptocmd import CmcScraper\n",
    "\n",
    "\n",
    "import matplotlib.pyplot as plt\n",
    "import seaborn as sns\n",
    "import statsmodels as sm\n",
    "import numpy as np\n",
    "from sklearn.metrics import mean_squared_error, mean_absolute_error, r2_score\n",
    "from statsmodels.tsa.stattools import adfuller\n",
    "from statsmodels.graphics.tsaplots import plot_acf, plot_pacf\n",
    "from statsmodels.tsa.seasonal import seasonal_decompose\n",
    "from statsmodels.tsa.arima_model import ARIMA\n",
    "from sklearn.metrics import mean_squared_error\n",
    "from scipy import stats\n",
    "from matplotlib import pyplot\n",
    "from pmdarima import auto_arima\n",
    "from sklearn.preprocessing import MinMaxScaler\n",
    "from keras.preprocessing.sequence import TimeseriesGenerator\n",
    "from keras.models import Sequential\n",
    "from keras.layers import Dense\n",
    "from keras.layers import LSTM\n",
    "import prophet\n",
    "\n",
    "%matplotlib inline\n",
    "sns.set()"
   ]
  },
  {
   "cell_type": "code",
   "execution_count": 2,
   "id": "1c5dbff5",
   "metadata": {},
   "outputs": [
    {
     "data": {
      "text/html": [
       "<div>\n",
       "<style scoped>\n",
       "    .dataframe tbody tr th:only-of-type {\n",
       "        vertical-align: middle;\n",
       "    }\n",
       "\n",
       "    .dataframe tbody tr th {\n",
       "        vertical-align: top;\n",
       "    }\n",
       "\n",
       "    .dataframe thead th {\n",
       "        text-align: right;\n",
       "    }\n",
       "</style>\n",
       "<table border=\"1\" class=\"dataframe\">\n",
       "  <thead>\n",
       "    <tr style=\"text-align: right;\">\n",
       "      <th></th>\n",
       "      <th>Date</th>\n",
       "      <th>Open</th>\n",
       "      <th>High</th>\n",
       "      <th>Low</th>\n",
       "      <th>Close</th>\n",
       "      <th>Volume</th>\n",
       "      <th>Market Cap</th>\n",
       "    </tr>\n",
       "  </thead>\n",
       "  <tbody>\n",
       "    <tr>\n",
       "      <th>3534</th>\n",
       "      <td>2013-04-28</td>\n",
       "      <td>135.300003</td>\n",
       "      <td>135.979996</td>\n",
       "      <td>132.100006</td>\n",
       "      <td>134.210007</td>\n",
       "      <td>0.000000e+00</td>\n",
       "      <td>1.488567e+09</td>\n",
       "    </tr>\n",
       "    <tr>\n",
       "      <th>3533</th>\n",
       "      <td>2013-04-29</td>\n",
       "      <td>134.444000</td>\n",
       "      <td>147.488007</td>\n",
       "      <td>134.000000</td>\n",
       "      <td>144.539993</td>\n",
       "      <td>0.000000e+00</td>\n",
       "      <td>1.603769e+09</td>\n",
       "    </tr>\n",
       "    <tr>\n",
       "      <th>3532</th>\n",
       "      <td>2013-04-30</td>\n",
       "      <td>144.000000</td>\n",
       "      <td>146.929993</td>\n",
       "      <td>134.050003</td>\n",
       "      <td>139.000000</td>\n",
       "      <td>0.000000e+00</td>\n",
       "      <td>1.542813e+09</td>\n",
       "    </tr>\n",
       "    <tr>\n",
       "      <th>3531</th>\n",
       "      <td>2013-05-01</td>\n",
       "      <td>139.000000</td>\n",
       "      <td>139.889999</td>\n",
       "      <td>107.720001</td>\n",
       "      <td>116.989998</td>\n",
       "      <td>0.000000e+00</td>\n",
       "      <td>1.298955e+09</td>\n",
       "    </tr>\n",
       "    <tr>\n",
       "      <th>3530</th>\n",
       "      <td>2013-05-02</td>\n",
       "      <td>116.379997</td>\n",
       "      <td>125.599998</td>\n",
       "      <td>92.281898</td>\n",
       "      <td>105.209999</td>\n",
       "      <td>0.000000e+00</td>\n",
       "      <td>1.168517e+09</td>\n",
       "    </tr>\n",
       "    <tr>\n",
       "      <th>...</th>\n",
       "      <td>...</td>\n",
       "      <td>...</td>\n",
       "      <td>...</td>\n",
       "      <td>...</td>\n",
       "      <td>...</td>\n",
       "      <td>...</td>\n",
       "      <td>...</td>\n",
       "    </tr>\n",
       "    <tr>\n",
       "      <th>4</th>\n",
       "      <td>2022-12-27</td>\n",
       "      <td>16919.291650</td>\n",
       "      <td>16959.846476</td>\n",
       "      <td>16642.073182</td>\n",
       "      <td>16717.173980</td>\n",
       "      <td>1.574858e+10</td>\n",
       "      <td>3.217172e+11</td>\n",
       "    </tr>\n",
       "    <tr>\n",
       "      <th>3</th>\n",
       "      <td>2022-12-28</td>\n",
       "      <td>16716.400221</td>\n",
       "      <td>16768.170356</td>\n",
       "      <td>16497.557039</td>\n",
       "      <td>16552.571737</td>\n",
       "      <td>1.700571e+10</td>\n",
       "      <td>3.185671e+11</td>\n",
       "    </tr>\n",
       "    <tr>\n",
       "      <th>2</th>\n",
       "      <td>2022-12-29</td>\n",
       "      <td>16552.322491</td>\n",
       "      <td>16651.756664</td>\n",
       "      <td>16508.683153</td>\n",
       "      <td>16642.342672</td>\n",
       "      <td>1.447224e+10</td>\n",
       "      <td>3.203093e+11</td>\n",
       "    </tr>\n",
       "    <tr>\n",
       "      <th>1</th>\n",
       "      <td>2022-12-30</td>\n",
       "      <td>16641.329824</td>\n",
       "      <td>16643.427410</td>\n",
       "      <td>16408.475177</td>\n",
       "      <td>16602.585156</td>\n",
       "      <td>1.592916e+10</td>\n",
       "      <td>3.195595e+11</td>\n",
       "    </tr>\n",
       "    <tr>\n",
       "      <th>0</th>\n",
       "      <td>2022-12-31</td>\n",
       "      <td>16603.674703</td>\n",
       "      <td>16628.986997</td>\n",
       "      <td>16517.519222</td>\n",
       "      <td>16547.495366</td>\n",
       "      <td>1.123919e+10</td>\n",
       "      <td>3.185163e+11</td>\n",
       "    </tr>\n",
       "  </tbody>\n",
       "</table>\n",
       "<p>3535 rows × 7 columns</p>\n",
       "</div>"
      ],
      "text/plain": [
       "           Date          Open          High           Low         Close  \\\n",
       "3534 2013-04-28    135.300003    135.979996    132.100006    134.210007   \n",
       "3533 2013-04-29    134.444000    147.488007    134.000000    144.539993   \n",
       "3532 2013-04-30    144.000000    146.929993    134.050003    139.000000   \n",
       "3531 2013-05-01    139.000000    139.889999    107.720001    116.989998   \n",
       "3530 2013-05-02    116.379997    125.599998     92.281898    105.209999   \n",
       "...         ...           ...           ...           ...           ...   \n",
       "4    2022-12-27  16919.291650  16959.846476  16642.073182  16717.173980   \n",
       "3    2022-12-28  16716.400221  16768.170356  16497.557039  16552.571737   \n",
       "2    2022-12-29  16552.322491  16651.756664  16508.683153  16642.342672   \n",
       "1    2022-12-30  16641.329824  16643.427410  16408.475177  16602.585156   \n",
       "0    2022-12-31  16603.674703  16628.986997  16517.519222  16547.495366   \n",
       "\n",
       "            Volume    Market Cap  \n",
       "3534  0.000000e+00  1.488567e+09  \n",
       "3533  0.000000e+00  1.603769e+09  \n",
       "3532  0.000000e+00  1.542813e+09  \n",
       "3531  0.000000e+00  1.298955e+09  \n",
       "3530  0.000000e+00  1.168517e+09  \n",
       "...            ...           ...  \n",
       "4     1.574858e+10  3.217172e+11  \n",
       "3     1.700571e+10  3.185671e+11  \n",
       "2     1.447224e+10  3.203093e+11  \n",
       "1     1.592916e+10  3.195595e+11  \n",
       "0     1.123919e+10  3.185163e+11  \n",
       "\n",
       "[3535 rows x 7 columns]"
      ]
     },
     "metadata": {},
     "output_type": "display_data"
    }
   ],
   "source": [
    "# Descarga de datos\n",
    "# ==============================================================================\n",
    "\n",
    "# Se inicializa el Scraper, se incluye simbolo, inicio y fin de la descarga\n",
    "scraper = CmcScraper('BTC', '28-04-2013', '31-12-2022')\n",
    "\n",
    "# Transformar datos recogidos en un dataframe\n",
    "data = scraper.get_dataframe()\n",
    "data.sort_values(by='Date', ascending=True, inplace=True)\n",
    "\n",
    "pd.set_option('display.max_columns', None)\n",
    "display(data)\n",
    "pd.reset_option('display.max_columns')"
   ]
  },
  {
   "cell_type": "code",
   "execution_count": 3,
   "id": "b666abb5",
   "metadata": {},
   "outputs": [],
   "source": [
    "# Preparación del datos\n",
    "# ==============================================================================\n",
    "data['date'] = pd.to_datetime(data['Date'], format='%Y-%m-%d %H:%M:%S')\n",
    "data = data.loc[:, ['date', 'Open', 'Close', 'High', 'Low']]\n",
    "data_ETH = data.rename({'Open': 'open', 'Close': 'close', 'High': 'high', 'Low': 'low'}, \n",
    "                    axis=1)\n",
    "#data = data.set_index('date')\n",
    "#data = data.asfreq('D')\n",
    "data_ETH = data.sort_index()"
   ]
  },
  {
   "cell_type": "code",
   "execution_count": 4,
   "id": "e0a16fe9",
   "metadata": {},
   "outputs": [
    {
     "data": {
      "text/html": [
       "<div>\n",
       "<style scoped>\n",
       "    .dataframe tbody tr th:only-of-type {\n",
       "        vertical-align: middle;\n",
       "    }\n",
       "\n",
       "    .dataframe tbody tr th {\n",
       "        vertical-align: top;\n",
       "    }\n",
       "\n",
       "    .dataframe thead th {\n",
       "        text-align: right;\n",
       "    }\n",
       "</style>\n",
       "<table border=\"1\" class=\"dataframe\">\n",
       "  <thead>\n",
       "    <tr style=\"text-align: right;\">\n",
       "      <th></th>\n",
       "      <th>date</th>\n",
       "      <th>Open</th>\n",
       "      <th>Close</th>\n",
       "      <th>High</th>\n",
       "      <th>Low</th>\n",
       "    </tr>\n",
       "  </thead>\n",
       "  <tbody>\n",
       "    <tr>\n",
       "      <th>3530</th>\n",
       "      <td>2013-05-02</td>\n",
       "      <td>116.379997</td>\n",
       "      <td>105.209999</td>\n",
       "      <td>125.599998</td>\n",
       "      <td>92.281898</td>\n",
       "    </tr>\n",
       "    <tr>\n",
       "      <th>3531</th>\n",
       "      <td>2013-05-01</td>\n",
       "      <td>139.000000</td>\n",
       "      <td>116.989998</td>\n",
       "      <td>139.889999</td>\n",
       "      <td>107.720001</td>\n",
       "    </tr>\n",
       "    <tr>\n",
       "      <th>3532</th>\n",
       "      <td>2013-04-30</td>\n",
       "      <td>144.000000</td>\n",
       "      <td>139.000000</td>\n",
       "      <td>146.929993</td>\n",
       "      <td>134.050003</td>\n",
       "    </tr>\n",
       "    <tr>\n",
       "      <th>3533</th>\n",
       "      <td>2013-04-29</td>\n",
       "      <td>134.444000</td>\n",
       "      <td>144.539993</td>\n",
       "      <td>147.488007</td>\n",
       "      <td>134.000000</td>\n",
       "    </tr>\n",
       "    <tr>\n",
       "      <th>3534</th>\n",
       "      <td>2013-04-28</td>\n",
       "      <td>135.300003</td>\n",
       "      <td>134.210007</td>\n",
       "      <td>135.979996</td>\n",
       "      <td>132.100006</td>\n",
       "    </tr>\n",
       "  </tbody>\n",
       "</table>\n",
       "</div>"
      ],
      "text/plain": [
       "           date        Open       Close        High         Low\n",
       "3530 2013-05-02  116.379997  105.209999  125.599998   92.281898\n",
       "3531 2013-05-01  139.000000  116.989998  139.889999  107.720001\n",
       "3532 2013-04-30  144.000000  139.000000  146.929993  134.050003\n",
       "3533 2013-04-29  134.444000  144.539993  147.488007  134.000000\n",
       "3534 2013-04-28  135.300003  134.210007  135.979996  132.100006"
      ]
     },
     "execution_count": 4,
     "metadata": {},
     "output_type": "execute_result"
    }
   ],
   "source": [
    "data_ETH.tail()"
   ]
  },
  {
   "cell_type": "code",
   "execution_count": 5,
   "id": "315f27a0",
   "metadata": {},
   "outputs": [],
   "source": [
    "y_2022 = data_ETH.loc[(data_ETH['date'] >= '2014-01-01')\n",
    "                     & (data_ETH['date'] < '2022-12-31')]"
   ]
  },
  {
   "cell_type": "code",
   "execution_count": 6,
   "id": "0b735790",
   "metadata": {},
   "outputs": [
    {
     "data": {
      "text/html": [
       "<div>\n",
       "<style scoped>\n",
       "    .dataframe tbody tr th:only-of-type {\n",
       "        vertical-align: middle;\n",
       "    }\n",
       "\n",
       "    .dataframe tbody tr th {\n",
       "        vertical-align: top;\n",
       "    }\n",
       "\n",
       "    .dataframe thead th {\n",
       "        text-align: right;\n",
       "    }\n",
       "</style>\n",
       "<table border=\"1\" class=\"dataframe\">\n",
       "  <thead>\n",
       "    <tr style=\"text-align: right;\">\n",
       "      <th></th>\n",
       "      <th>date</th>\n",
       "      <th>Open</th>\n",
       "      <th>Close</th>\n",
       "      <th>High</th>\n",
       "      <th>Low</th>\n",
       "    </tr>\n",
       "  </thead>\n",
       "  <tbody>\n",
       "    <tr>\n",
       "      <th>1</th>\n",
       "      <td>2022-12-30</td>\n",
       "      <td>16641.329824</td>\n",
       "      <td>16602.585156</td>\n",
       "      <td>16643.427410</td>\n",
       "      <td>16408.475177</td>\n",
       "    </tr>\n",
       "    <tr>\n",
       "      <th>2</th>\n",
       "      <td>2022-12-29</td>\n",
       "      <td>16552.322491</td>\n",
       "      <td>16642.342672</td>\n",
       "      <td>16651.756664</td>\n",
       "      <td>16508.683153</td>\n",
       "    </tr>\n",
       "    <tr>\n",
       "      <th>3</th>\n",
       "      <td>2022-12-28</td>\n",
       "      <td>16716.400221</td>\n",
       "      <td>16552.571737</td>\n",
       "      <td>16768.170356</td>\n",
       "      <td>16497.557039</td>\n",
       "    </tr>\n",
       "    <tr>\n",
       "      <th>4</th>\n",
       "      <td>2022-12-27</td>\n",
       "      <td>16919.291650</td>\n",
       "      <td>16717.173980</td>\n",
       "      <td>16959.846476</td>\n",
       "      <td>16642.073182</td>\n",
       "    </tr>\n",
       "    <tr>\n",
       "      <th>5</th>\n",
       "      <td>2022-12-26</td>\n",
       "      <td>16842.249311</td>\n",
       "      <td>16919.805175</td>\n",
       "      <td>16920.123640</td>\n",
       "      <td>16812.370076</td>\n",
       "    </tr>\n",
       "  </tbody>\n",
       "</table>\n",
       "</div>"
      ],
      "text/plain": [
       "        date          Open         Close          High           Low\n",
       "1 2022-12-30  16641.329824  16602.585156  16643.427410  16408.475177\n",
       "2 2022-12-29  16552.322491  16642.342672  16651.756664  16508.683153\n",
       "3 2022-12-28  16716.400221  16552.571737  16768.170356  16497.557039\n",
       "4 2022-12-27  16919.291650  16717.173980  16959.846476  16642.073182\n",
       "5 2022-12-26  16842.249311  16919.805175  16920.123640  16812.370076"
      ]
     },
     "execution_count": 6,
     "metadata": {},
     "output_type": "execute_result"
    }
   ],
   "source": [
    "y_2022.head()"
   ]
  },
  {
   "cell_type": "code",
   "execution_count": 7,
   "id": "b297f6a5",
   "metadata": {},
   "outputs": [
    {
     "name": "stderr",
     "output_type": "stream",
     "text": [
      "C:\\Users\\Angel\\AppData\\Local\\Temp\\ipykernel_12848\\522649752.py:1: SettingWithCopyWarning: \n",
      "A value is trying to be set on a copy of a slice from a DataFrame.\n",
      "Try using .loc[row_indexer,col_indexer] = value instead\n",
      "\n",
      "See the caveats in the documentation: https://pandas.pydata.org/pandas-docs/stable/user_guide/indexing.html#returning-a-view-versus-a-copy\n",
      "  y_2022.date = pd.to_datetime(y_2022.date)\n"
     ]
    },
    {
     "data": {
      "text/html": [
       "<div>\n",
       "<style scoped>\n",
       "    .dataframe tbody tr th:only-of-type {\n",
       "        vertical-align: middle;\n",
       "    }\n",
       "\n",
       "    .dataframe tbody tr th {\n",
       "        vertical-align: top;\n",
       "    }\n",
       "\n",
       "    .dataframe thead th {\n",
       "        text-align: right;\n",
       "    }\n",
       "</style>\n",
       "<table border=\"1\" class=\"dataframe\">\n",
       "  <thead>\n",
       "    <tr style=\"text-align: right;\">\n",
       "      <th></th>\n",
       "      <th>Open</th>\n",
       "      <th>Close</th>\n",
       "      <th>High</th>\n",
       "      <th>Low</th>\n",
       "    </tr>\n",
       "    <tr>\n",
       "      <th>date</th>\n",
       "      <th></th>\n",
       "      <th></th>\n",
       "      <th></th>\n",
       "      <th></th>\n",
       "    </tr>\n",
       "  </thead>\n",
       "  <tbody>\n",
       "    <tr>\n",
       "      <th>2022-12-30</th>\n",
       "      <td>16641.329824</td>\n",
       "      <td>16602.585156</td>\n",
       "      <td>16643.427410</td>\n",
       "      <td>16408.475177</td>\n",
       "    </tr>\n",
       "    <tr>\n",
       "      <th>2022-12-29</th>\n",
       "      <td>16552.322491</td>\n",
       "      <td>16642.342672</td>\n",
       "      <td>16651.756664</td>\n",
       "      <td>16508.683153</td>\n",
       "    </tr>\n",
       "    <tr>\n",
       "      <th>2022-12-28</th>\n",
       "      <td>16716.400221</td>\n",
       "      <td>16552.571737</td>\n",
       "      <td>16768.170356</td>\n",
       "      <td>16497.557039</td>\n",
       "    </tr>\n",
       "    <tr>\n",
       "      <th>2022-12-27</th>\n",
       "      <td>16919.291650</td>\n",
       "      <td>16717.173980</td>\n",
       "      <td>16959.846476</td>\n",
       "      <td>16642.073182</td>\n",
       "    </tr>\n",
       "    <tr>\n",
       "      <th>2022-12-26</th>\n",
       "      <td>16842.249311</td>\n",
       "      <td>16919.805175</td>\n",
       "      <td>16920.123640</td>\n",
       "      <td>16812.370076</td>\n",
       "    </tr>\n",
       "  </tbody>\n",
       "</table>\n",
       "</div>"
      ],
      "text/plain": [
       "                    Open         Close          High           Low\n",
       "date                                                              \n",
       "2022-12-30  16641.329824  16602.585156  16643.427410  16408.475177\n",
       "2022-12-29  16552.322491  16642.342672  16651.756664  16508.683153\n",
       "2022-12-28  16716.400221  16552.571737  16768.170356  16497.557039\n",
       "2022-12-27  16919.291650  16717.173980  16959.846476  16642.073182\n",
       "2022-12-26  16842.249311  16919.805175  16920.123640  16812.370076"
      ]
     },
     "execution_count": 7,
     "metadata": {},
     "output_type": "execute_result"
    }
   ],
   "source": [
    "y_2022.date = pd.to_datetime(y_2022.date)\n",
    "y_2022.set_index('date', inplace=True)\n",
    "y_2022.head()"
   ]
  },
  {
   "cell_type": "code",
   "execution_count": 8,
   "id": "e7c3a254",
   "metadata": {},
   "outputs": [
    {
     "data": {
      "image/png": "[encoded data removed]",
      "text/plain": [
       "<Figure size 1440x360 with 1 Axes>"
      ]
     },
     "metadata": {},
     "output_type": "display_data"
    }
   ],
   "source": [
    "#Evolución \n",
    "y_2022[['Close']].plot(figsize=(20,5), linewidth=2, fontsize=10)\n",
    "plt.xlabel('time', fontsize=15);"
   ]
  },
  {
   "cell_type": "code",
   "execution_count": 9,
   "id": "0677d0da",
   "metadata": {},
   "outputs": [],
   "source": [
    "## analisis de estacionalidad"
   ]
  },
  {
   "cell_type": "code",
   "execution_count": 10,
   "id": "62cb4e3f",
   "metadata": {},
   "outputs": [],
   "source": [
    "beer=y_2022['Close']"
   ]
  },
  {
   "cell_type": "code",
   "execution_count": 11,
   "id": "ed8e3eb0",
   "metadata": {},
   "outputs": [
    {
     "data": {
      "image/png": "[encoded data removed]",
      "text/plain": [
       "<Figure size 1440x360 with 1 Axes>"
      ]
     },
     "metadata": {},
     "output_type": "display_data"
    }
   ],
   "source": [
    "#Primera diferencia de la serie (niveles)\n",
    "beer.diff().plot(figsize=(20,5), linewidth=2, fontsize=10)\n",
    "plt.xlabel('time', fontsize=10);"
   ]
  },
  {
   "cell_type": "markdown",
   "id": "4f192337",
   "metadata": {},
   "source": [
    "### No obstante, a continuación, se procede a realizar la prueba de Dickey- Fuller para realizar una verificación formal de la estacionariedad de la serie."
   ]
  },
  {
   "cell_type": "code",
   "execution_count": 12,
   "id": "89ceb408",
   "metadata": {},
   "outputs": [
    {
     "name": "stdout",
     "output_type": "stream",
     "text": [
      "ADF Statistic: -1.514341\n",
      "p-value: 0.526406\n",
      "Critical Values:\n",
      "\t1%: -3.432\n",
      "\t5%: -2.862\n",
      "\t10%: -2.567\n"
     ]
    }
   ],
   "source": [
    "#Prueba Dickey- Fuller\n",
    "result = adfuller(y_2022['Close'])\n",
    "print('ADF Statistic: %f' % result[0])\n",
    "print('p-value: %f' % result[1])\n",
    "print('Critical Values:')\n",
    "for key, value in result[4].items():\n",
    "    print('\\t%s: %.3f' % (key, value))"
   ]
  },
  {
   "cell_type": "markdown",
   "id": "912b427e",
   "metadata": {},
   "source": [
    "### no se puede rechazar la hipótesis nula de no estacionariedad y no se puede concluir que la serie temporal sea estacionaria."
   ]
  },
  {
   "cell_type": "code",
   "execution_count": 13,
   "id": "0e242954",
   "metadata": {},
   "outputs": [
    {
     "data": {
      "text/plain": [
       "<AxesSubplot:xlabel='Lag', ylabel='Autocorrelation'>"
      ]
     },
     "execution_count": 13,
     "metadata": {},
     "output_type": "execute_result"
    },
    {
     "data": {
      "image/png": "[encoded data removed]",
      "text/plain": [
       "<Figure size 1440x360 with 1 Axes>"
      ]
     },
     "metadata": {},
     "output_type": "display_data"
    }
   ],
   "source": [
    "#Autocorrelación de la serie en análisis\n",
    "plt.figure(figsize=(20,5))\n",
    "pd.plotting.autocorrelation_plot(y_2022['Close'])"
   ]
  },
  {
   "cell_type": "markdown",
   "id": "ad58b2d5",
   "metadata": {},
   "source": [
    "### Como se comprobó en el test de raíz unitaria, esta caída lenta en la función de autocorrelación simple, da indicios que la serie es no estacionaria."
   ]
  },
  {
   "cell_type": "markdown",
   "id": "efc6b297",
   "metadata": {},
   "source": [
    "# APLICACION DE LOS MODELOS !! "
   ]
  },
  {
   "cell_type": "markdown",
   "id": "2843c68b",
   "metadata": {},
   "source": [
    "#### Modelo ARIMA"
   ]
  },
  {
   "cell_type": "code",
   "execution_count": 14,
   "id": "568d51e0",
   "metadata": {},
   "outputs": [
    {
     "name": "stdout",
     "output_type": "stream",
     "text": [
      "(0, 0)\n",
      "(0, 1)\n",
      "(0, 2)\n",
      "(0, 3)\n",
      "(1, 0)\n",
      "(2, 0)\n"
     ]
    },
    {
     "name": "stderr",
     "output_type": "stream",
     "text": [
      "C:\\Users\\Angel\\anaconda3\\lib\\site-packages\\statsmodels\\tsa\\statespace\\sarimax.py:966: UserWarning: Non-stationary starting autoregressive parameters found. Using zeros as starting parameters.\n",
      "  warn('Non-stationary starting autoregressive parameters'\n",
      "C:\\Users\\Angel\\anaconda3\\lib\\site-packages\\statsmodels\\tsa\\statespace\\sarimax.py:978: UserWarning: Non-invertible starting MA parameters found. Using zeros as starting parameters.\n",
      "  warn('Non-invertible starting MA parameters found.'\n"
     ]
    },
    {
     "name": "stdout",
     "output_type": "stream",
     "text": [
      "(2, 1)\n"
     ]
    }
   ],
   "source": [
    "import numpy as np\n",
    "from statsmodels.tsa.arima.model import ARIMA\n",
    "from sklearn.metrics import mean_squared_error\n",
    "\n",
    "X = y_2022['Close'].values\n",
    "size = int(len(X) * 0.85)\n",
    "train, test = X[0:size], X[size:len(X)]\n",
    "\n",
    "def ARIMA_FUNCTION(p, q):\n",
    "    predictions = []\n",
    "    history = [x for x in train]\n",
    "    for t in range(len(test)):\n",
    "        model = ARIMA(history, order=(p, 1, q))\n",
    "        model_fit = model.fit()\n",
    "        output = model_fit.forecast()\n",
    "        yhat = output[0]\n",
    "        predictions.append(yhat)\n",
    "        obs = test[t]\n",
    "        history.append(obs)\n",
    "    return mean_squared_error(test, predictions) ** 0.5\n",
    "\n",
    "results = []\n",
    "for i in range(3):\n",
    "    for j in range(4):\n",
    "        if (i > j or i == 0) and (i - j < 3):\n",
    "            mse = ARIMA_FUNCTION(i, j)\n",
    "            results.append([i, j, mse])\n",
    "            print((i, j))\n"
   ]
  },
  {
   "cell_type": "code",
   "execution_count": 15,
   "id": "b1769fc7",
   "metadata": {},
   "outputs": [
    {
     "data": {
      "text/plain": [
       "[[0, 0, 20.113551001381126],\n",
       " [0, 1, 20.097384837099696],\n",
       " [0, 2, 20.114645935750907],\n",
       " [0, 3, 20.099530553652386],\n",
       " [1, 0, 20.099504158669927],\n",
       " [2, 0, 20.112497824712946],\n",
       " [2, 1, 20.113317538845173]]"
      ]
     },
     "execution_count": 15,
     "metadata": {},
     "output_type": "execute_result"
    }
   ],
   "source": [
    "results"
   ]
  },
  {
   "cell_type": "markdown",
   "id": "fb3cbeb8",
   "metadata": {},
   "source": [
    "#### De acuerdo a los RMSE obtenidos para cada modelo evaluado en los procesos ARIMA, el mejor modelo es el ARIMA (0,1,1) con un RMSE correspondiente a 23.501."
   ]
  },
  {
   "cell_type": "markdown",
   "id": "2facf022",
   "metadata": {},
   "source": [
    "#### 4.1.2 Estimación modelo"
   ]
  },
  {
   "cell_type": "code",
   "execution_count": 16,
   "id": "b4dc177d",
   "metadata": {},
   "outputs": [
    {
     "name": "stdout",
     "output_type": "stream",
     "text": [
      "                               SARIMAX Results                                \n",
      "==============================================================================\n",
      "Dep. Variable:                      y   No. Observations:                 2793\n",
      "Model:                 ARIMA(0, 1, 1)   Log Likelihood              -22719.576\n",
      "Date:                Wed, 28 Jun 2023   AIC                          45443.153\n",
      "Time:                        17:23:26   BIC                          45455.022\n",
      "Sample:                             0   HQIC                         45447.437\n",
      "                               - 2793                                         \n",
      "Covariance Type:                  opg                                         \n",
      "==============================================================================\n",
      "                 coef    std err          z      P>|z|      [0.025      0.975]\n",
      "------------------------------------------------------------------------------\n",
      "ma.L1         -0.0249      0.010     -2.418      0.016      -0.045      -0.005\n",
      "sigma2      6.857e+05   6254.158    109.646      0.000    6.73e+05    6.98e+05\n",
      "===================================================================================\n",
      "Ljung-Box (L1) (Q):                   0.00   Jarque-Bera (JB):             27573.04\n",
      "Prob(Q):                              0.96   Prob(JB):                         0.00\n",
      "Heteroskedasticity (H):               0.00   Skew:                             0.22\n",
      "Prob(H) (two-sided):                  0.00   Kurtosis:                        18.39\n",
      "===================================================================================\n",
      "\n",
      "Warnings:\n",
      "[1] Covariance matrix calculated using the outer product of gradients (complex-step).\n"
     ]
    }
   ],
   "source": [
    "model = ARIMA(train, order=(0,1,1))\n",
    "model_fit = model.fit()\n",
    "print(model_fit.summary())"
   ]
  },
  {
   "cell_type": "code",
   "execution_count": 17,
   "id": "ee381ca8",
   "metadata": {},
   "outputs": [
    {
     "data": {
      "text/plain": [
       "<function matplotlib.pyplot.show(close=None, block=None)>"
      ]
     },
     "execution_count": 17,
     "metadata": {},
     "output_type": "execute_result"
    },
    {
     "data": {
      "image/png": "[encoded data removed]",
      "text/plain": [
       "<Figure size 1440x360 with 1 Axes>"
      ]
     },
     "metadata": {},
     "output_type": "display_data"
    }
   ],
   "source": [
    "residuals = pd.DataFrame(model_fit.resid)\n",
    "residuals.plot(figsize=(20,5))\n",
    "plt.show"
   ]
  },
  {
   "cell_type": "code",
   "execution_count": 18,
   "id": "0b41f8df",
   "metadata": {},
   "outputs": [
    {
     "data": {
      "image/png": "[encoded data removed]",
      "text/plain": [
       "<Figure size 1440x360 with 1 Axes>"
      ]
     },
     "metadata": {},
     "output_type": "display_data"
    },
    {
     "name": "stdout",
     "output_type": "stream",
     "text": [
      "                  0\n",
      "count   2793.000000\n",
      "mean      -0.001164\n",
      "std      885.173669\n",
      "min    -7299.179990\n",
      "25%     -116.631142\n",
      "50%       -1.985447\n",
      "75%       88.774731\n",
      "max    16602.585156\n"
     ]
    }
   ],
   "source": [
    "residuals.plot(kind='kde', figsize=(20,5))\n",
    "plt.show()\n",
    "print(residuals.describe())"
   ]
  },
  {
   "cell_type": "markdown",
   "id": "0ab7f3db",
   "metadata": {},
   "source": [
    "#### De acuerdo a los gráficos de los residuales podemos observar que el proceso tiene media constante, centrada alrededor de cero y varianza constante. Tambien, graficamente parece ajustarse a una distribución Normal, sin embargo validamos esto con una prueba de normalidad"
   ]
  },
  {
   "cell_type": "code",
   "execution_count": 19,
   "id": "455abf33",
   "metadata": {},
   "outputs": [
    {
     "name": "stdout",
     "output_type": "stream",
     "text": [
      "KS P-value = 0.0\n"
     ]
    }
   ],
   "source": [
    "print(\"KS P-value = \"+str(round(stats.kstest(residuals, 'norm')[1], 10)))"
   ]
  },
  {
   "cell_type": "markdown",
   "id": "74baacd0",
   "metadata": {},
   "source": [
    "###### Según los resultados del test de Kolmogorov Smirnoff con un nivel de significancia del 5% no podemos concluir que los residuales se ajustan a una distribución normal."
   ]
  },
  {
   "cell_type": "markdown",
   "id": "10a5339b",
   "metadata": {},
   "source": [
    "### 4.1.4. Rolling Forecast"
   ]
  },
  {
   "cell_type": "code",
   "execution_count": 20,
   "id": "0daeb0da",
   "metadata": {},
   "outputs": [
    {
     "name": "stdout",
     "output_type": "stream",
     "text": [
      "predicted=241.794937, expected=243.863007\n",
      "predicted=243.811577, expected=237.334000\n",
      "predicted=237.495088, expected=229.781998\n",
      "predicted=229.973813, expected=236.121002\n",
      "predicted=235.968127, expected=239.018005\n",
      "predicted=238.942157, expected=240.358002\n",
      "predicted=240.322790, expected=234.929993\n",
      "predicted=235.064111, expected=232.078995\n",
      "predicted=232.153235, expected=236.145004\n",
      "predicted=236.045727, expected=225.807999\n",
      "predicted=226.062618, expected=225.854996\n",
      "predicted=225.860160, expected=229.285995\n",
      "predicted=229.200791, expected=219.429993\n",
      "predicted=219.673008, expected=226.389999\n",
      "predicted=226.222935, expected=231.268005\n",
      "predicted=231.142524, expected=236.462006\n",
      "predicted=236.329698, expected=234.175995\n",
      "predicted=234.229563, expected=235.268997\n",
      "predicted=235.243143, expected=224.626007\n",
      "predicted=224.890089, expected=222.600006\n",
      "predicted=222.656968, expected=223.356003\n",
      "predicted=223.338615, expected=222.882004\n",
      "predicted=222.893362, expected=228.572998\n",
      "predicted=228.431721, expected=223.832993\n",
      "predicted=223.947384, expected=219.158997\n",
      "predicted=219.278107, expected=224.587006\n",
      "predicted=224.454947, expected=236.153000\n",
      "predicted=235.862007, expected=236.552002\n",
      "predicted=236.534838, expected=236.072006\n",
      "predicted=236.083520, expected=243.675995\n",
      "predicted=243.487124, expected=245.022003\n",
      "predicted=244.983821, expected=253.179993\n",
      "predicted=252.976100, expected=255.492004\n",
      "predicted=255.429417, expected=260.597992\n",
      "predicted=260.469413, expected=253.697006\n",
      "predicted=253.865486, expected=254.322006\n",
      "predicted=254.310649, expected=253.005005\n",
      "predicted=253.037487, expected=247.272003\n",
      "predicted=247.415438, expected=244.223999\n",
      "predicted=244.303397, expected=247.526001\n",
      "predicted=247.445827, expected=242.712997\n",
      "predicted=242.830745, expected=252.798004\n",
      "predicted=252.550026, expected=247.029007\n",
      "predicted=247.166367, expected=248.531998\n",
      "predicted=248.498021, expected=246.197006\n",
      "predicted=246.254256, expected=245.595001\n",
      "predicted=245.611404, expected=266.739990\n",
      "predicted=266.214298, expected=267.959991\n",
      "predicted=267.916557, expected=260.024994\n",
      "predicted=260.221345, expected=261.748993\n",
      "predicted=261.710983, expected=260.928009\n",
      "predicted=260.947491, expected=256.299011\n",
      "predicted=256.414674, expected=285.505005\n",
      "predicted=284.781172, expected=290.592987\n",
      "predicted=290.448375, expected=286.393005\n",
      "predicted=286.493914, expected=281.885010\n",
      "predicted=281.999693, expected=285.337006\n",
      "predicted=285.253963, expected=294.354004\n",
      "predicted=294.127563, expected=296.378998\n",
      "predicted=296.322974, expected=291.760010\n",
      "predicted=291.873555, expected=289.606995\n",
      "predicted=289.663396, expected=274.354004\n",
      "predicted=274.734970, expected=276.260986\n",
      "predicted=276.223012, expected=272.722992\n",
      "predicted=272.810090, expected=276.178009\n",
      "predicted=276.094197, expected=273.092010\n",
      "predicted=273.166722, expected=281.701996\n",
      "predicted=281.489588, expected=275.670013\n",
      "predicted=275.814840, expected=260.201996\n",
      "predicted=260.590542, expected=254.263000\n",
      "predicted=254.420471, expected=253.828003\n",
      "predicted=253.842748, expected=236.425995\n",
      "predicted=236.859446, expected=237.470001\n",
      "predicted=237.454806, expected=238.735001\n",
      "predicted=238.703140, expected=238.891998\n",
      "predicted=238.887298, expected=235.977005\n",
      "predicted=236.049437, expected=244.533997\n",
      "predicted=244.322830, expected=243.779007\n",
      "predicted=243.792542, expected=240.283005\n",
      "predicted=240.370353, expected=236.326004\n",
      "predicted=236.426664, expected=243.610001\n",
      "predicted=243.431212, expected=233.843002\n",
      "predicted=234.081650, expected=234.824997\n",
      "predicted=234.806495, expected=257.321014\n",
      "predicted=256.760623, expected=235.427002\n",
      "predicted=235.958011, expected=221.764008\n",
      "predicted=222.117308, expected=219.184998\n",
      "predicted=219.257986, expected=219.839005\n",
      "predicted=219.824542, expected=220.110001\n",
      "predicted=220.102895, expected=223.412003\n",
      "predicted=223.329633, expected=227.753998\n",
      "predicted=227.643866, expected=222.266006\n",
      "predicted=222.399874, expected=217.110992\n",
      "predicted=217.242646, expected=226.852997\n",
      "predicted=226.613768, expected=227.268005\n",
      "predicted=227.251719, expected=238.229004\n",
      "predicted=237.955742, expected=226.972000\n",
      "predicted=227.245426, expected=217.464005\n",
      "predicted=217.707502, expected=226.425003\n",
      "predicted=226.207988, expected=233.513000\n",
      "predicted=233.331147, expected=233.914993\n",
      "predicted=233.900459, expected=263.475006\n",
      "predicted=262.738751, expected=273.472992\n",
      "predicted=273.205763, expected=253.718002\n",
      "predicted=254.203157, expected=247.847000\n",
      "predicted=248.005240, expected=232.878998\n",
      "predicted=233.255577, expected=233.406006\n",
      "predicted=233.402261, expected=226.897003\n",
      "predicted=227.058960, expected=211.315002\n",
      "predicted=211.706971, expected=214.860992\n",
      "predicted=214.782468, expected=210.339005\n",
      "predicted=210.449633, expected=199.259995\n",
      "predicted=199.538586, expected=208.097000\n",
      "predicted=207.883917, expected=209.843994\n",
      "predicted=209.795193, expected=178.102997\n",
      "predicted=178.892071, expected=225.860992\n",
      "predicted=224.691511, expected=267.795990\n",
      "predicted=266.722762, expected=265.660004\n",
      "predicted=265.686465, expected=274.795990\n",
      "predicted=274.569173, expected=290.407990\n",
      "predicted=290.013618, expected=283.348999\n",
      "predicted=283.514943, expected=294.337006\n",
      "predicted=294.067541, expected=286.188995\n",
      "predicted=286.385170, expected=274.473999\n",
      "predicted=274.770589, expected=264.195007\n",
      "predicted=264.458342, expected=281.082001\n",
      "predicted=280.668061, expected=315.032013\n",
      "predicted=314.176330, expected=314.248993\n",
      "predicted=314.247183, expected=320.192993\n",
      "predicted=320.044936, expected=310.737000\n",
      "predicted=310.968780, expected=312.670013\n",
      "predicted=312.627650, expected=317.239014\n",
      "predicted=317.124182, expected=315.863007\n",
      "predicted=315.894413, expected=327.924011\n",
      "predicted=327.624445, expected=319.007996\n",
      "predicted=319.222568, expected=322.533997\n",
      "predicted=322.451532, expected=334.571991\n",
      "predicted=334.270153, expected=331.885986\n",
      "predicted=331.945360, expected=320.842987\n",
      "predicted=321.119477, expected=329.955994\n",
      "predicted=329.735929, expected=317.842987\n",
      "predicted=318.139172, expected=311.395996\n",
      "predicted=311.563932, expected=319.776001\n",
      "predicted=319.571481, expected=327.062012\n",
      "predicted=326.875460, expected=345.345001\n",
      "predicted=344.885014, expected=351.631989\n",
      "predicted=351.463953, expected=347.376007\n",
      "predicted=347.477820, expected=352.541992\n",
      "predicted=352.415865, expected=350.506012\n",
      "predicted=350.553579, expected=346.364990\n",
      "predicted=346.469313, expected=352.218994\n",
      "predicted=352.075789, expected=361.908997\n",
      "predicted=361.664082, expected=375.095001\n",
      "predicted=374.760477, expected=374.785004\n",
      "predicted=374.784393, expected=376.854004\n",
      "predicted=376.802455, expected=369.604004\n",
      "predicted=369.783301, expected=375.010010\n",
      "predicted=374.879823, expected=381.315002\n",
      "predicted=381.154713, expected=379.244995\n",
      "predicted=379.292563, expected=378.046997\n",
      "predicted=378.078023, expected=375.490997\n",
      "predicted=375.555438, expected=376.446991\n",
      "predicted=376.424783, expected=369.670013\n",
      "predicted=369.838271, expected=368.369995\n",
      "predicted=368.406570, expected=375.347992\n",
      "predicted=375.175081, expected=376.901001\n",
      "predicted=376.858008, expected=367.572998\n",
      "predicted=367.804292, expected=352.920013\n",
      "predicted=353.290791, expected=350.847992\n",
      "predicted=350.908844, expected=357.839996\n",
      "predicted=357.667333, expected=380.554993\n",
      "predicted=379.984831, expected=375.197998\n",
      "predicted=375.317246, expected=387.407990\n",
      "predicted=387.106786, expected=387.881989\n",
      "predicted=387.862677, expected=376.132996\n",
      "predicted=376.425210, expected=397.817993\n",
      "predicted=397.285040, expected=420.734985\n",
      "predicted=420.150783, expected=423.561005\n",
      "predicted=423.476046, expected=367.695007\n",
      "predicted=369.084697, expected=366.924011\n",
      "predicted=366.977842, expected=363.264008\n",
      "predicted=363.356533, expected=345.488007\n",
      "predicted=345.933182, expected=342.415009\n",
      "predicted=342.502661, expected=349.290009\n",
      "predicted=349.120906, expected=339.485992\n",
      "predicted=339.726043, expected=330.492004\n",
      "predicted=330.722069, expected=327.553986\n",
      "predicted=327.632919, expected=325.891998\n",
      "predicted=325.935374, expected=325.748993\n",
      "predicted=325.753637, expected=338.321014\n",
      "predicted=338.007888, expected=345.304993\n",
      "predicted=345.123178, expected=335.591003\n",
      "predicted=335.828510, expected=357.618011\n",
      "predicted=357.075091, expected=352.989014\n",
      "predicted=353.090826, expected=354.704010\n",
      "predicted=354.663814, expected=347.270996\n",
      "predicted=347.455206, expected=358.345001\n",
      "predicted=358.073653, expected=358.416992\n",
      "predicted=358.408437, expected=383.157990\n"
     ]
    },
    {
     "name": "stdout",
     "output_type": "stream",
     "text": [
      "predicted=382.541276, expected=386.475006\n",
      "predicted=386.376984, expected=382.845001\n",
      "predicted=382.933013, expected=389.545990\n",
      "predicted=389.381202, expected=391.441986\n",
      "predicted=391.390633, expected=383.757996\n",
      "predicted=383.948196, expected=382.556000\n",
      "predicted=382.590693, expected=394.773010\n",
      "predicted=394.469429, expected=400.869995\n",
      "predicted=400.710493, expected=390.414001\n",
      "predicted=390.670593, expected=378.549011\n",
      "predicted=378.851087, expected=362.299011\n",
      "predicted=362.711499, expected=361.562012\n",
      "predicted=361.590658, expected=365.026001\n",
      "predicted=364.940389, expected=352.940002\n",
      "predicted=353.239068, expected=336.187012\n",
      "predicted=336.611974, expected=330.079010\n",
      "predicted=330.241822, expected=320.510010\n",
      "predicted=320.752545, expected=328.865997\n",
      "predicted=328.663793, expected=359.511993\n",
      "predicted=358.743187, expected=375.071991\n",
      "predicted=374.665041, expected=383.614990\n",
      "predicted=383.391936, expected=386.944000\n",
      "predicted=386.855473, expected=375.467010\n",
      "predicted=375.750844, expected=377.181000\n",
      "predicted=377.145356, expected=399.519989\n",
      "predicted=398.962338, expected=404.424988\n",
      "predicted=404.288839, expected=411.574005\n",
      "predicted=411.392432, expected=423.204987\n",
      "predicted=422.910571, expected=435.790985\n",
      "predicted=435.469953, expected=402.152008\n",
      "predicted=402.982442, expected=398.821014\n",
      "predicted=398.924737, expected=408.903992\n",
      "predicted=408.655259, expected=394.795990\n",
      "predicted=395.141436, expected=424.440002\n",
      "predicted=423.709715, expected=457.334015\n",
      "predicted=456.495914, expected=466.057007\n",
      "predicted=465.818692, expected=475.371002\n",
      "predicted=475.132904, expected=477.891998\n",
      "predicted=477.823225, expected=479.002014\n",
      "predicted=478.972631, expected=477.752991\n",
      "predicted=477.783392, expected=479.748993\n",
      "predicted=479.699997, expected=479.359009\n",
      "predicted=479.367509, expected=475.260010\n",
      "predicted=475.362398, expected=474.600006\n",
      "predicted=474.619011, expected=482.278015\n",
      "predicted=482.087095, expected=484.829987\n",
      "predicted=484.761612, expected=483.342010\n",
      "predicted=483.377398, expected=489.660004\n",
      "predicted=489.503389, expected=477.585999\n",
      "predicted=477.883082, expected=477.425995\n",
      "predicted=477.437390, expected=474.878998\n",
      "predicted=474.942776, expected=477.763000\n",
      "predicted=477.692694, expected=504.248993\n",
      "predicted=503.586959, expected=508.516998\n",
      "predicted=508.394094, expected=507.815002\n",
      "predicted=507.829439, expected=511.153015\n",
      "predicted=511.070158, expected=511.570007\n",
      "predicted=511.557546, expected=502.496002\n",
      "predicted=502.721911, expected=508.286011\n",
      "predicted=508.147293, expected=498.075012\n",
      "predicted=498.326125, expected=514.043030\n",
      "predicted=513.651186, expected=517.237000\n",
      "predicted=517.147599, expected=511.980011\n",
      "predicted=512.108848, expected=485.244995\n",
      "predicted=485.914764, expected=461.459991\n",
      "predicted=462.069695, expected=491.795013\n",
      "predicted=491.053887, expected=519.708008\n",
      "predicted=518.993595, expected=497.010010\n",
      "predicted=497.558123, expected=505.973999\n",
      "predicted=505.764165, expected=546.658020\n",
      "predicted=545.638403, expected=569.642029\n",
      "predicted=569.043547, expected=576.367981\n",
      "predicted=576.185360, expected=591.060974\n",
      "predicted=590.690076, expected=589.372009\n",
      "predicted=589.404873, expected=592.577026\n",
      "predicted=592.497933, expected=588.869019\n",
      "predicted=588.959502, expected=584.653015\n",
      "predicted=584.760394, expected=585.435974\n",
      "predicted=585.419129, expected=588.781982\n",
      "predicted=588.698131, expected=586.666016\n",
      "predicted=586.716686, expected=589.333008\n",
      "predicted=589.267769, expected=594.916016\n",
      "predicted=594.775174, expected=586.234985\n",
      "predicted=586.447940, expected=567.293030\n",
      "predicted=567.770672, expected=584.724976\n",
      "predicted=584.302200, expected=585.690979\n",
      "predicted=585.656348, expected=593.851990\n",
      "predicted=593.647618, expected=595.812988\n",
      "predicted=595.758991, expected=601.088989\n",
      "predicted=600.956075, expected=601.732971\n",
      "predicted=601.713597, expected=619.414978\n",
      "predicted=618.973550, expected=621.551025\n",
      "predicted=621.486749, expected=622.210999\n",
      "predicted=622.192937, expected=623.900024\n",
      "predicted=623.857453, expected=628.515015\n",
      "predicted=628.398863, expected=628.778992\n",
      "predicted=628.769512, expected=623.088989\n",
      "predicted=623.230655, expected=616.799988\n",
      "predicted=616.960363, expected=621.585999\n",
      "predicted=621.470638, expected=619.315002\n",
      "predicted=619.368763, expected=626.497009\n",
      "predicted=626.319233, expected=633.713013\n",
      "predicted=633.528612, expected=632.002991\n",
      "predicted=632.041040, expected=616.762024\n",
      "predicted=617.143089, expected=624.508972\n",
      "predicted=624.325262, expected=624.817993\n",
      "predicted=624.805704, expected=624.085999\n",
      "predicted=624.103949, expected=635.807007\n",
      "predicted=635.515117, expected=631.456970\n",
      "predicted=631.558187, expected=630.692017\n",
      "predicted=630.713621, expected=645.156006\n",
      "predicted=644.795783, expected=650.879028\n",
      "predicted=650.727298, expected=640.806030\n",
      "predicted=641.053492, expected=639.796997\n",
      "predicted=639.828338, expected=602.715027\n",
      "predicted=603.640742, expected=596.549011\n",
      "predicted=596.725901, expected=597.260986\n",
      "predicted=597.247640, expected=581.137024\n",
      "predicted=581.538879, expected=566.335999\n",
      "predicted=566.715213, expected=582.356995\n",
      "predicted=581.966827, expected=593.984009\n",
      "predicted=593.684251, expected=602.273010\n",
      "predicted=602.058770, expected=594.992004\n",
      "predicted=595.168281, expected=594.145996\n",
      "predicted=594.171497, expected=598.070984\n",
      "predicted=597.973711, expected=607.958008\n",
      "predicted=607.708948, expected=610.864014\n",
      "predicted=610.785309, expected=592.187988\n",
      "predicted=592.651910, expected=592.937012\n",
      "predicted=592.929900, expected=577.357971\n",
      "predicted=577.746429, expected=600.163025\n",
      "predicted=599.603811, expected=586.952026\n",
      "predicted=587.267648, expected=633.020020\n",
      "predicted=631.878621, expected=653.150024\n",
      "predicted=652.619366, expected=649.158997\n",
      "predicted=649.245323, expected=656.140015\n",
      "predicted=655.968009, expected=654.968994\n",
      "predicted=654.993917, expected=653.702026\n",
      "predicted=653.734256, expected=659.257996\n",
      "predicted=659.120188, expected=641.614014\n",
      "predicted=642.050766, expected=667.604980\n",
      "predicted=666.967430, expected=660.617981\n",
      "predicted=660.776395, expected=630.229004\n",
      "predicted=630.991142, expected=623.677002\n",
      "predicted=623.859486, expected=615.325012\n",
      "predicted=615.537945, expected=568.179993\n",
      "predicted=569.361559, expected=577.062012\n",
      "predicted=576.869885, expected=571.244019\n",
      "predicted=571.384386, expected=583.424011\n",
      "predicted=583.123616, expected=571.588013\n",
      "predicted=571.875836, expected=525.138000\n",
      "predicted=526.304148, expected=520.221985\n",
      "predicted=520.373740, expected=524.578979\n",
      "predicted=524.474054, expected=491.769989\n",
      "predicted=492.586002, expected=485.723999\n",
      "predicted=485.895217, expected=446.181000\n",
      "predicted=447.171933, expected=446.264008\n",
      "predicted=446.286662, expected=448.903015\n",
      "predicted=448.837732, expected=448.058014\n",
      "predicted=448.077470, expected=447.252014\n",
      "predicted=447.272611, expected=443.971985\n",
      "predicted=444.054344, expected=440.670990\n",
      "predicted=440.755414, expected=441.462006\n",
      "predicted=441.444374, expected=438.885986\n",
      "predicted=438.949827, expected=454.433014\n",
      "predicted=454.046653, expected=449.460999\n",
      "predicted=449.575428, expected=440.169006\n",
      "predicted=440.403734, expected=438.821014\n",
      "predicted=438.860510, expected=428.962006\n",
      "predicted=429.209017, expected=433.481995\n",
      "predicted=433.375364, expected=436.403015\n",
      "predicted=436.327460, expected=437.761993\n",
      "predicted=437.726194, expected=449.377014\n",
      "predicted=449.086264, expected=457.760010\n",
      "predicted=457.543552, expected=447.644989\n",
      "predicted=447.892015, expected=447.209015\n",
      "predicted=447.226060, expected=440.285004\n",
      "predicted=440.458226, expected=436.390015\n",
      "predicted=436.491543, expected=458.601013\n",
      "predicted=458.049235, expected=461.449005\n",
      "predicted=461.364158, expected=500.464996\n",
      "predicted=499.489158, expected=491.303009\n",
      "predicted=491.507313, expected=487.924011\n",
      "predicted=488.013442, expected=495.773010\n",
      "predicted=495.579349, expected=498.167999\n",
      "predicted=498.103392, expected=501.565002\n",
      "predicted=501.478607, expected=479.644989\n",
      "predicted=480.189923, expected=495.963013\n",
      "predicted=495.569335, expected=527.395020\n",
      "predicted=526.600688, expected=515.585999\n",
      "predicted=515.860916, expected=458.786987\n",
      "predicted=460.211503, expected=414.062988\n",
      "predicted=415.214762, expected=421.115997\n",
      "predicted=420.968713, expected=420.946991\n",
      "predicted=420.947533, expected=365.175995\n",
      "predicted=366.567986, expected=442.725006\n",
      "predicted=440.824041, expected=453.085999\n",
      "predicted=452.779929, expected=449.423004\n",
      "predicted=449.506797, expected=460.498993\n"
     ]
    },
    {
     "name": "stdout",
     "output_type": "stream",
     "text": [
      "predicted=460.224612, expected=461.907013\n",
      "predicted=461.865017, expected=447.526001\n",
      "predicted=447.883929, expected=444.717987\n",
      "predicted=444.797015, expected=437.140015\n",
      "predicted=437.331150, expected=478.375000\n",
      "predicted=477.350439, expected=457.001007\n",
      "predicted=457.508994, expected=460.273010\n",
      "predicted=460.204011, expected=491.171997\n",
      "predicted=490.398923, expected=495.665985\n",
      "predicted=495.534499, expected=471.239014\n",
      "predicted=471.845528, expected=580.827026\n",
      "predicted=578.106238, expected=583.916992\n",
      "predicted=583.771924, expected=583.411987\n",
      "predicted=583.420973, expected=561.271973\n",
      "predicted=561.824943, expected=565.039978\n",
      "predicted=564.959711, expected=571.489990\n",
      "predicted=571.326953, expected=588.770020\n",
      "predicted=588.334526, expected=609.888000\n",
      "predicted=609.349884, expected=614.831970\n",
      "predicted=614.695100, expected=622.372986\n",
      "predicted=622.181293, expected=631.109985\n",
      "predicted=630.887062, expected=636.119995\n",
      "predicted=635.989343, expected=628.799988\n",
      "predicted=628.979488, expected=638.140015\n",
      "predicted=637.911297, expected=632.099976\n",
      "predicted=632.245073, expected=634.109985\n",
      "predicted=634.063422, expected=627.789978\n",
      "predicted=627.946616, expected=636.960022\n",
      "predicted=636.734969, expected=617.450012\n",
      "predicted=617.931537, expected=629.150024\n",
      "predicted=628.869907, expected=663.859985\n",
      "predicted=662.986308, expected=665.510010\n",
      "predicted=665.446994, expected=666.780029\n",
      "predicted=666.746744, expected=667.760010\n",
      "predicted=667.734709, expected=559.789978\n",
      "predicted=562.485374, expected=565.609985\n",
      "predicted=565.531963, expected=549.260010\n",
      "predicted=549.666333, expected=578.770020\n",
      "predicted=578.043266, expected=582.690002\n",
      "predicted=582.573967, expected=538.710022\n",
      "predicted=539.805378, expected=546.320007\n",
      "predicted=546.157324, expected=605.820007\n",
      "predicted=604.330107, expected=605.419983\n",
      "predicted=605.392766, expected=574.159973\n",
      "predicted=574.939934, expected=556.140015\n",
      "predicted=556.609494, expected=623.030029\n",
      "predicted=621.371292, expected=626.599976\n",
      "predicted=626.469398, expected=626.270020\n",
      "predicted=626.274999, expected=616.630005\n",
      "predicted=616.870876, expected=650.919983\n",
      "predicted=650.069637, expected=661.989990\n",
      "predicted=661.692290, expected=605.239990\n",
      "predicted=606.649868, expected=651.719971\n",
      "predicted=650.594294, expected=672.169983\n",
      "predicted=671.631111, expected=681.030029\n",
      "predicted=680.795282, expected=682.900024\n",
      "predicted=682.847456, expected=673.919983\n",
      "predicted=674.142959, expected=712.400024\n",
      "predicted=711.444486, expected=781.549988\n",
      "predicted=779.799058, expected=811.909973\n",
      "predicted=811.108014, expected=827.960022\n",
      "predicted=827.539149, expected=823.830017\n",
      "predicted=823.922652, expected=825.369995\n",
      "predicted=825.333848, expected=832.580017\n",
      "predicted=832.399042, expected=829.919983\n",
      "predicted=829.981899, expected=819.030029\n",
      "predicted=819.303560, expected=826.000000\n",
      "predicted=825.832750, expected=812.510010\n",
      "predicted=812.842761, expected=771.390015\n",
      "predicted=772.425343, expected=885.280029\n",
      "predicted=882.461068, expected=853.609985\n",
      "predicted=854.330696, expected=797.070007\n",
      "predicted=798.500379, expected=822.039978\n",
      "predicted=821.451939, expected=845.590027\n",
      "predicted=844.987037, expected=863.909973\n",
      "predicted=863.437263, expected=870.200012\n",
      "predicted=870.031072, expected=870.960022\n",
      "predicted=870.936816, expected=840.000000\n",
      "predicted=840.772844, expected=814.640015\n",
      "predicted=815.292843, expected=835.630005\n",
      "predicted=835.121949, expected=860.900024\n",
      "predicted=860.256047, expected=833.270020\n",
      "predicted=833.944188, expected=841.200012\n",
      "predicted=841.018744, expected=863.219971\n",
      "predicted=862.665327, expected=913.950012\n",
      "predicted=912.668807, expected=868.479980\n",
      "predicted=869.583974, expected=846.859985\n",
      "predicted=847.427705, expected=842.719971\n",
      "predicted=842.837586, expected=802.000000\n",
      "predicted=803.020267, expected=953.289978\n",
      "predicted=949.535215, expected=933.530029\n",
      "predicted=933.929966, expected=859.510010\n",
      "predicted=861.369616, expected=818.719971\n",
      "predicted=819.785637, expected=802.390015\n",
      "predicted=802.824669, expected=771.400024\n"
     ]
    }
   ],
   "source": [
    "history = [x for x in train]\n",
    "predictions = list()\n",
    "\n",
    "for t in range(len(test)):\n",
    "    model_1 = ARIMA(history, order=(0,1,1))\n",
    "    model_fit_1 = model_1.fit()\n",
    "    output = model_fit_1.forecast()\n",
    "    yhat = output[0]\n",
    "    predictions.append(yhat)\n",
    "    obs = test[t]\n",
    "    history.append(obs)\n",
    "    print('predicted=%f, expected=%f' % (yhat, obs))"
   ]
  },
  {
   "cell_type": "code",
   "execution_count": 21,
   "id": "3e864751",
   "metadata": {},
   "outputs": [
    {
     "name": "stdout",
     "output_type": "stream",
     "text": [
      "Test RMSE: 20.097\n"
     ]
    }
   ],
   "source": [
    "error_ARIMA = mean_squared_error(test, predictions)**0.5\n",
    "print('Test RMSE: %.3f' % error_ARIMA)"
   ]
  },
  {
   "cell_type": "code",
   "execution_count": 22,
   "id": "24a73159",
   "metadata": {},
   "outputs": [
    {
     "name": "stdout",
     "output_type": "stream",
     "text": [
      "Resultados para el modelo ARIMA:\n",
      "RMSE:  20.097384837099696\n",
      "MAE:  11.999097398394962\n",
      "R²:  0.9872214420848597\n"
     ]
    }
   ],
   "source": [
    "# Cálculo del RMSE para el modelo ARIMA\n",
    "rmse_arima = mean_squared_error(test, predictions) ** 0.5\n",
    "\n",
    "# Cálculo del MAE para el modelo ARIMA\n",
    "mae_arima = mean_absolute_error(test, predictions)\n",
    "\n",
    "# Cálculo del R² para el modelo ARIMA\n",
    "r2_arima = r2_score(test, predictions)\n",
    "\n",
    "# Imprimir los resultados\n",
    "print(\"Resultados para el modelo ARIMA:\")\n",
    "print(\"RMSE: \", rmse_arima)\n",
    "print(\"MAE: \", mae_arima)\n",
    "print(\"R²: \", r2_arima)"
   ]
  },
  {
   "cell_type": "markdown",
   "id": "9dfe4c6b",
   "metadata": {},
   "source": [
    "### Después de ejecutar el procedimiento de Rolling Forecast con el test el RMSE obtenido es de 23.501 con el ARIMA(0,1,1)."
   ]
  },
  {
   "cell_type": "code",
   "execution_count": 23,
   "id": "362536e4",
   "metadata": {},
   "outputs": [
    {
     "data": {
      "text/html": [
       "<div>\n",
       "<style scoped>\n",
       "    .dataframe tbody tr th:only-of-type {\n",
       "        vertical-align: middle;\n",
       "    }\n",
       "\n",
       "    .dataframe tbody tr th {\n",
       "        vertical-align: top;\n",
       "    }\n",
       "\n",
       "    .dataframe thead th {\n",
       "        text-align: right;\n",
       "    }\n",
       "</style>\n",
       "<table border=\"1\" class=\"dataframe\">\n",
       "  <thead>\n",
       "    <tr style=\"text-align: right;\">\n",
       "      <th></th>\n",
       "      <th>TEST</th>\n",
       "      <th>ARIMA</th>\n",
       "    </tr>\n",
       "  </thead>\n",
       "  <tbody>\n",
       "    <tr>\n",
       "      <th>0</th>\n",
       "      <td>243.863007</td>\n",
       "      <td>241.794937</td>\n",
       "    </tr>\n",
       "    <tr>\n",
       "      <th>1</th>\n",
       "      <td>237.334000</td>\n",
       "      <td>243.811577</td>\n",
       "    </tr>\n",
       "    <tr>\n",
       "      <th>2</th>\n",
       "      <td>229.781998</td>\n",
       "      <td>237.495088</td>\n",
       "    </tr>\n",
       "    <tr>\n",
       "      <th>3</th>\n",
       "      <td>236.121002</td>\n",
       "      <td>229.973813</td>\n",
       "    </tr>\n",
       "    <tr>\n",
       "      <th>4</th>\n",
       "      <td>239.018005</td>\n",
       "      <td>235.968127</td>\n",
       "    </tr>\n",
       "  </tbody>\n",
       "</table>\n",
       "</div>"
      ],
      "text/plain": [
       "         TEST       ARIMA\n",
       "0  243.863007  241.794937\n",
       "1  237.334000  243.811577\n",
       "2  229.781998  237.495088\n",
       "3  236.121002  229.973813\n",
       "4  239.018005  235.968127"
      ]
     },
     "execution_count": 23,
     "metadata": {},
     "output_type": "execute_result"
    }
   ],
   "source": [
    "RollBack = pd.DataFrame({'TEST': test, 'ARIMA': predictions})\n",
    "RollBack.head()"
   ]
  },
  {
   "cell_type": "code",
   "execution_count": 24,
   "id": "43ca3bbb",
   "metadata": {},
   "outputs": [
    {
     "data": {
      "image/png": "[encoded data removed]",
      "text/plain": [
       "<Figure size 1440x360 with 1 Axes>"
      ]
     },
     "metadata": {},
     "output_type": "display_data"
    }
   ],
   "source": [
    "RollBack.plot(figsize=(20,5), linewidth=2, fontsize=10)\n",
    "plt.xlabel('time', fontsize=15);"
   ]
  },
  {
   "cell_type": "markdown",
   "id": "f0df6eec",
   "metadata": {},
   "source": [
    "### 4.2. Modelo SARIMA"
   ]
  },
  {
   "cell_type": "markdown",
   "id": "9ef8738e",
   "metadata": {},
   "source": [
    "### Según el análisis de la serie existe un fuerte componente estacional en la variable Close , como se observó anteriormente, no está siendo capturado por el proceso ARIMA seleccionado. Por consiguiente, se procede a estimar un modelo SARIMA, que es un modelo ARIMA que incluye el componente estacional de las series."
   ]
  },
  {
   "cell_type": "markdown",
   "id": "70d68b7f",
   "metadata": {},
   "source": [
    "#### 4.2.1. Selección proceso SARIMA a estimar"
   ]
  },
  {
   "cell_type": "code",
   "execution_count": 30,
   "id": "88910c26",
   "metadata": {},
   "outputs": [
    {
     "name": "stdout",
     "output_type": "stream",
     "text": [
      "Performing stepwise search to minimize aic\n",
      " ARIMA(0,1,0)(1,0,1)[12] intercept   : AIC=45419.402, Time=0.84 sec\n",
      " ARIMA(0,1,0)(0,0,0)[12] intercept   : AIC=45444.795, Time=0.04 sec\n",
      " ARIMA(1,1,0)(1,0,0)[12] intercept   : AIC=45436.666, Time=0.39 sec\n",
      " ARIMA(0,1,1)(0,0,1)[12] intercept   : AIC=45437.897, Time=0.53 sec\n",
      " ARIMA(0,1,0)(0,0,0)[12]             : AIC=45442.935, Time=0.03 sec\n",
      " ARIMA(0,1,0)(0,0,1)[12] intercept   : AIC=45437.433, Time=0.33 sec\n",
      " ARIMA(0,1,0)(1,0,0)[12] intercept   : AIC=45436.181, Time=0.30 sec\n",
      " ARIMA(0,1,0)(2,0,1)[12] intercept   : AIC=45418.058, Time=4.94 sec\n",
      " ARIMA(0,1,0)(2,0,0)[12] intercept   : AIC=45425.142, Time=1.89 sec\n",
      " ARIMA(0,1,0)(2,0,2)[12] intercept   : AIC=inf, Time=14.61 sec\n",
      " ARIMA(0,1,0)(1,0,2)[12] intercept   : AIC=45417.814, Time=5.97 sec\n",
      " ARIMA(0,1,0)(0,0,2)[12] intercept   : AIC=45427.768, Time=2.05 sec\n",
      " ARIMA(1,1,0)(1,0,2)[12] intercept   : AIC=45419.013, Time=6.61 sec\n",
      " ARIMA(0,1,1)(1,0,2)[12] intercept   : AIC=45419.052, Time=7.27 sec\n",
      " ARIMA(1,1,1)(1,0,2)[12] intercept   : AIC=45421.050, Time=8.61 sec\n",
      " ARIMA(0,1,0)(1,0,2)[12]             : AIC=45415.894, Time=1.59 sec\n",
      " ARIMA(0,1,0)(0,0,2)[12]             : AIC=45426.341, Time=0.72 sec\n",
      " ARIMA(0,1,0)(1,0,1)[12]             : AIC=45417.383, Time=0.43 sec\n",
      " ARIMA(0,1,0)(2,0,2)[12]             : AIC=inf, Time=9.95 sec\n",
      " ARIMA(0,1,0)(0,0,1)[12]             : AIC=45435.836, Time=0.22 sec\n",
      " ARIMA(0,1,0)(2,0,1)[12]             : AIC=45416.004, Time=1.63 sec\n",
      " ARIMA(1,1,0)(1,0,2)[12]             : AIC=45417.138, Time=2.38 sec\n",
      " ARIMA(0,1,1)(1,0,2)[12]             : AIC=45417.178, Time=2.35 sec\n",
      " ARIMA(1,1,1)(1,0,2)[12]             : AIC=45419.172, Time=2.52 sec\n",
      "\n",
      "Best model:  ARIMA(0,1,0)(1,0,2)[12]          \n",
      "Total fit time: 76.246 seconds\n",
      "45415.89377607338\n"
     ]
    }
   ],
   "source": [
    "stepwise_model = auto_arima(train, \n",
    "                            start_p=0,\n",
    "                            start_q=0, \n",
    "                            max_p=5, \n",
    "                            max_d=2, \n",
    "                            max_q=5, \n",
    "                            start_P=1,\n",
    "                            start_Q=1, \n",
    "                            max_P=2, \n",
    "                            max_D=2, \n",
    "                            max_Q=2, \n",
    "                            max_order=10,\n",
    "                            m=12,\n",
    "                            seasonal=True,\n",
    "                            trace=True,\n",
    "                            error_action='ignore',  \n",
    "                            suppress_warnings=True, \n",
    "                            stepwise=True)\n",
    "print(stepwise_model.aic())"
   ]
  },
  {
   "cell_type": "markdown",
   "id": "71a40a36",
   "metadata": {},
   "source": [
    "#### Una vez evaluadas las posibles combinaciones para el proceso SARIMA, el modelo con el mejor performance es el que tiene menor AIC, en este caso es el ARIMA(0,1,0)x(1,0,2,12) con un AIC=47914.311"
   ]
  },
  {
   "cell_type": "markdown",
   "id": "be13ee2d",
   "metadata": {},
   "source": [
    "#### 4.2.2. Estimación modelo"
   ]
  },
  {
   "cell_type": "code",
   "execution_count": 31,
   "id": "f0ac742a",
   "metadata": {},
   "outputs": [
    {
     "data": {
      "text/html": [
       "<table class=\"simpletable\">\n",
       "<caption>SARIMAX Results</caption>\n",
       "<tr>\n",
       "  <th>Dep. Variable:</th>                    <td>y</td>                  <th>  No. Observations:  </th>    <td>2793</td>   \n",
       "</tr>\n",
       "<tr>\n",
       "  <th>Model:</th>           <td>SARIMAX(0, 1, 0)x(1, 0, [1, 2], 12)</td> <th>  Log Likelihood     </th> <td>-22703.947</td>\n",
       "</tr>\n",
       "<tr>\n",
       "  <th>Date:</th>                     <td>Tue, 20 Jun 2023</td>           <th>  AIC                </th>  <td>45415.894</td>\n",
       "</tr>\n",
       "<tr>\n",
       "  <th>Time:</th>                         <td>23:24:24</td>               <th>  BIC                </th>  <td>45439.632</td>\n",
       "</tr>\n",
       "<tr>\n",
       "  <th>Sample:</th>                           <td>0</td>                  <th>  HQIC               </th>  <td>45424.464</td>\n",
       "</tr>\n",
       "<tr>\n",
       "  <th></th>                               <td> - 2793</td>               <th>                     </th>      <td> </td>    \n",
       "</tr>\n",
       "<tr>\n",
       "  <th>Covariance Type:</th>                 <td>opg</td>                 <th>                     </th>      <td> </td>    \n",
       "</tr>\n",
       "</table>\n",
       "<table class=\"simpletable\">\n",
       "<tr>\n",
       "      <td></td>        <th>coef</th>     <th>std err</th>      <th>z</th>      <th>P>|z|</th>  <th>[0.025</th>    <th>0.975]</th>  \n",
       "</tr>\n",
       "<tr>\n",
       "  <th>ar.S.L12</th> <td>   -0.6408</td> <td>    0.058</td> <td>  -11.008</td> <td> 0.000</td> <td>   -0.755</td> <td>   -0.527</td>\n",
       "</tr>\n",
       "<tr>\n",
       "  <th>ma.S.L12</th> <td>    0.5906</td> <td>    0.059</td> <td>   10.083</td> <td> 0.000</td> <td>    0.476</td> <td>    0.705</td>\n",
       "</tr>\n",
       "<tr>\n",
       "  <th>ma.S.L24</th> <td>    0.0407</td> <td>    0.011</td> <td>    3.567</td> <td> 0.000</td> <td>    0.018</td> <td>    0.063</td>\n",
       "</tr>\n",
       "<tr>\n",
       "  <th>sigma2</th>   <td> 6.844e+05</td> <td> 6427.716</td> <td>  106.472</td> <td> 0.000</td> <td> 6.72e+05</td> <td> 6.97e+05</td>\n",
       "</tr>\n",
       "</table>\n",
       "<table class=\"simpletable\">\n",
       "<tr>\n",
       "  <th>Ljung-Box (L1) (Q):</th>     <td>0.82</td> <th>  Jarque-Bera (JB):  </th> <td>26538.84</td>\n",
       "</tr>\n",
       "<tr>\n",
       "  <th>Prob(Q):</th>                <td>0.36</td> <th>  Prob(JB):          </th>   <td>0.00</td>  \n",
       "</tr>\n",
       "<tr>\n",
       "  <th>Heteroskedasticity (H):</th> <td>0.01</td> <th>  Skew:              </th>   <td>0.21</td>  \n",
       "</tr>\n",
       "<tr>\n",
       "  <th>Prob(H) (two-sided):</th>    <td>0.00</td> <th>  Kurtosis:          </th>   <td>18.10</td> \n",
       "</tr>\n",
       "</table><br/><br/>Warnings:<br/>[1] Covariance matrix calculated using the outer product of gradients (complex-step)."
      ],
      "text/latex": [
       "\\begin{center}\n",
       "\\begin{tabular}{lclc}\n",
       "\\toprule\n",
       "\\textbf{Dep. Variable:}          &                  y                  & \\textbf{  No. Observations:  } &    2793     \\\\\n",
       "\\textbf{Model:}                  & SARIMAX(0, 1, 0)x(1, 0, [1, 2], 12) & \\textbf{  Log Likelihood     } & -22703.947  \\\\\n",
       "\\textbf{Date:}                   &           Tue, 20 Jun 2023          & \\textbf{  AIC                } & 45415.894   \\\\\n",
       "\\textbf{Time:}                   &               23:24:24              & \\textbf{  BIC                } & 45439.632   \\\\\n",
       "\\textbf{Sample:}                 &                  0                  & \\textbf{  HQIC               } & 45424.464   \\\\\n",
       "\\textbf{}                        &                - 2793               & \\textbf{                     } &             \\\\\n",
       "\\textbf{Covariance Type:}        &                 opg                 & \\textbf{                     } &             \\\\\n",
       "\\bottomrule\n",
       "\\end{tabular}\n",
       "\\begin{tabular}{lcccccc}\n",
       "                  & \\textbf{coef} & \\textbf{std err} & \\textbf{z} & \\textbf{P$> |$z$|$} & \\textbf{[0.025} & \\textbf{0.975]}  \\\\\n",
       "\\midrule\n",
       "\\textbf{ar.S.L12} &      -0.6408  &        0.058     &   -11.008  &         0.000        &       -0.755    &       -0.527     \\\\\n",
       "\\textbf{ma.S.L12} &       0.5906  &        0.059     &    10.083  &         0.000        &        0.476    &        0.705     \\\\\n",
       "\\textbf{ma.S.L24} &       0.0407  &        0.011     &     3.567  &         0.000        &        0.018    &        0.063     \\\\\n",
       "\\textbf{sigma2}   &    6.844e+05  &     6427.716     &   106.472  &         0.000        &     6.72e+05    &     6.97e+05     \\\\\n",
       "\\bottomrule\n",
       "\\end{tabular}\n",
       "\\begin{tabular}{lclc}\n",
       "\\textbf{Ljung-Box (L1) (Q):}     & 0.82 & \\textbf{  Jarque-Bera (JB):  } & 26538.84  \\\\\n",
       "\\textbf{Prob(Q):}                & 0.36 & \\textbf{  Prob(JB):          } &   0.00    \\\\\n",
       "\\textbf{Heteroskedasticity (H):} & 0.01 & \\textbf{  Skew:              } &   0.21    \\\\\n",
       "\\textbf{Prob(H) (two-sided):}    & 0.00 & \\textbf{  Kurtosis:          } &  18.10    \\\\\n",
       "\\bottomrule\n",
       "\\end{tabular}\n",
       "%\\caption{SARIMAX Results}\n",
       "\\end{center}\n",
       "\n",
       "Warnings: \\newline\n",
       " [1] Covariance matrix calculated using the outer product of gradients (complex-step)."
      ],
      "text/plain": [
       "<class 'statsmodels.iolib.summary.Summary'>\n",
       "\"\"\"\n",
       "                                        SARIMAX Results                                        \n",
       "===============================================================================================\n",
       "Dep. Variable:                                       y   No. Observations:                 2793\n",
       "Model:             SARIMAX(0, 1, 0)x(1, 0, [1, 2], 12)   Log Likelihood              -22703.947\n",
       "Date:                                 Tue, 20 Jun 2023   AIC                          45415.894\n",
       "Time:                                         23:24:24   BIC                          45439.632\n",
       "Sample:                                              0   HQIC                         45424.464\n",
       "                                                - 2793                                         \n",
       "Covariance Type:                                   opg                                         \n",
       "==============================================================================\n",
       "                 coef    std err          z      P>|z|      [0.025      0.975]\n",
       "------------------------------------------------------------------------------\n",
       "ar.S.L12      -0.6408      0.058    -11.008      0.000      -0.755      -0.527\n",
       "ma.S.L12       0.5906      0.059     10.083      0.000       0.476       0.705\n",
       "ma.S.L24       0.0407      0.011      3.567      0.000       0.018       0.063\n",
       "sigma2      6.844e+05   6427.716    106.472      0.000    6.72e+05    6.97e+05\n",
       "===================================================================================\n",
       "Ljung-Box (L1) (Q):                   0.82   Jarque-Bera (JB):             26538.84\n",
       "Prob(Q):                              0.36   Prob(JB):                         0.00\n",
       "Heteroskedasticity (H):               0.01   Skew:                             0.21\n",
       "Prob(H) (two-sided):                  0.00   Kurtosis:                        18.10\n",
       "===================================================================================\n",
       "\n",
       "Warnings:\n",
       "[1] Covariance matrix calculated using the outer product of gradients (complex-step).\n",
       "\"\"\""
      ]
     },
     "execution_count": 31,
     "metadata": {},
     "output_type": "execute_result"
    }
   ],
   "source": [
    "mod = sm.tsa.statespace.sarimax.SARIMAX(train, trend='n', order=(0,1,0), seasonal_order=(1,0,2,12))\n",
    "results = mod.fit()\n",
    "results.summary()"
   ]
  },
  {
   "cell_type": "markdown",
   "id": "0917bb1c",
   "metadata": {},
   "source": [
    "#### En general, los resultados sugieren que el modelo ARIMA ajustado puede no ser adecuado para capturar la dinámica de los datos. Sería recomendable evaluar otras alternativas de modelos o considerar la inclusión de variables adicionales para mejorar las predicciones."
   ]
  },
  {
   "cell_type": "markdown",
   "id": "86944a76",
   "metadata": {},
   "source": [
    "### 4.2.4. Rolling Forecast"
   ]
  },
  {
   "cell_type": "code",
   "execution_count": null,
   "id": "bad3c778",
   "metadata": {},
   "outputs": [],
   "source": [
    "X = y_2022['Close'].values\n",
    "size = int(len(X) * 0.85)\n",
    "train, test = X[0:size], X[size:len(X)]\n",
    "history = [x for x in train]\n",
    "predictions = list()\n",
    "for t in range(len(test)):\n",
    "\tmodel = sm.tsa.statespace.sarimax.SARIMAX(history, trend='n', order=(0,1,1), seasonal_order=(1,0,2,12))\n",
    "\tmodel_fit = model.fit(disp=0)\n",
    "\toutput = model_fit.forecast()\n",
    "\tyhat = output[0]\n",
    "\tpredictions.append(yhat)\n",
    "\tobs = test[t]\n",
    "\thistory.append(obs)"
   ]
  },
  {
   "cell_type": "code",
   "execution_count": null,
   "id": "c52974f2",
   "metadata": {},
   "outputs": [],
   "source": [
    "error_SARIMA = mean_squared_error(test, predictions)**0.5\n",
    "print('Test RMSE: %.3f' % error_SARIMA)"
   ]
  },
  {
   "cell_type": "code",
   "execution_count": null,
   "id": "182c7043",
   "metadata": {},
   "outputs": [],
   "source": [
    "# Cálculo del RMSE para el modelo SARIMA\n",
    "rmse_sarima = mean_squared_error(test, predictions)**0.5\n",
    "\n",
    "# Cálculo del MAE para el modelo SARIMA\n",
    "mae_sarima = mean_absolute_error(test, predictions)\n",
    "\n",
    "# Cálculo del R² para el modelo SARIMA\n",
    "r2_sarima = r2_score(test, predictions)\n",
    "\n",
    "print(\"Resultados para el modelo SARIMA:\")\n",
    "print(\"RMSE: \", rmse_sarima)\n",
    "print(\"MAE: \", mae_sarima)\n",
    "print(\"R²: \", r2_sarima)"
   ]
  },
  {
   "cell_type": "code",
   "execution_count": null,
   "id": "a56c19a0",
   "metadata": {},
   "outputs": [],
   "source": [
    "RollBack=pd.concat([RollBack,pd.DataFrame({'SARIMA':predictions})],axis=1)\n",
    "RollBack.head()"
   ]
  },
  {
   "cell_type": "code",
   "execution_count": null,
   "id": "7a49c70c",
   "metadata": {},
   "outputs": [],
   "source": [
    "RollBack.plot(figsize=(25,12), linewidth=2, fontsize=10)\n",
    "plt.xlabel('time', fontsize=15);"
   ]
  },
  {
   "cell_type": "code",
   "execution_count": null,
   "id": "23b6faa7",
   "metadata": {},
   "outputs": [],
   "source": [
    "data_LSTM = pd.DataFrame({'close': y_2022.Close})\n",
    "data_LSTM.head()"
   ]
  },
  {
   "cell_type": "code",
   "execution_count": null,
   "id": "3fd30090",
   "metadata": {},
   "outputs": [],
   "source": [
    "Y = data_LSTM\n",
    "size = int(len(Y) * 0.85)\n",
    "\n",
    "train_Y, test_Y = Y[0:size], Y[size:len(Y)]"
   ]
  },
  {
   "cell_type": "code",
   "execution_count": null,
   "id": "7f06bf6f",
   "metadata": {},
   "outputs": [],
   "source": [
    "scaler = MinMaxScaler()\n",
    "scaler.fit(train_Y)\n",
    "scaled_train_data = scaler.transform(train_Y)\n",
    "scaled_test_data = scaler.transform(test_Y)"
   ]
  },
  {
   "cell_type": "code",
   "execution_count": null,
   "id": "e895a802",
   "metadata": {},
   "outputs": [],
   "source": [
    "n_input = 24\n",
    "n_features= 1\n",
    "generator = TimeseriesGenerator(scaled_train_data, scaled_train_data, length=n_input, batch_size=1)"
   ]
  },
  {
   "cell_type": "code",
   "execution_count": null,
   "id": "559790e4",
   "metadata": {},
   "outputs": [],
   "source": [
    "lstm_model = Sequential()\n",
    "lstm_model.add(LSTM(200, input_shape=(n_input, n_features)))\n",
    "#lstm_model.add(LSTM(units=50, return_sequences = True))\n",
    "lstm_model.add(Dense(1))\n",
    "lstm_model.compile(optimizer='adam', loss='mean_squared_error')\n",
    "\n",
    "lstm_model.summary()"
   ]
  },
  {
   "cell_type": "code",
   "execution_count": null,
   "id": "0552798c",
   "metadata": {},
   "outputs": [],
   "source": [
    "lstm_model.fit_generator(generator,epochs=20)"
   ]
  },
  {
   "cell_type": "code",
   "execution_count": null,
   "id": "efef0615",
   "metadata": {},
   "outputs": [],
   "source": [
    "losses_lstm = lstm_model.history.history['loss']\n",
    "plt.figure(figsize=(20,5))\n",
    "plt.xticks(np.arange(0,21,1))\n",
    "plt.plot(range(len(losses_lstm)),losses_lstm);"
   ]
  },
  {
   "cell_type": "code",
   "execution_count": null,
   "id": "cdb0d639",
   "metadata": {},
   "outputs": [],
   "source": [
    "lstm_predictions_scaled = list()\n",
    "\n",
    "batch = scaled_train_data[-n_input:]\n",
    "current_batch = batch.reshape((1, n_input, n_features))\n",
    "\n",
    "for i in range(len(test)):   \n",
    "    lstm_pred = lstm_model.predict(current_batch)[0]\n",
    "    lstm_predictions_scaled.append(lstm_pred) \n",
    "    current_batch = np.append(current_batch[:,1:,:],[[lstm_pred]],axis=1)"
   ]
  },
  {
   "cell_type": "code",
   "execution_count": null,
   "id": "fddc59d5",
   "metadata": {},
   "outputs": [],
   "source": [
    "lstm_predictions = scaler.inverse_transform(lstm_predictions_scaled)"
   ]
  },
  {
   "cell_type": "code",
   "execution_count": null,
   "id": "8269f33f",
   "metadata": {},
   "outputs": [],
   "source": [
    "error_LSTM = mean_squared_error(test, lstm_predictions) ** 0.5\n",
    "print('Test RMSE: %.3f' % error_LSTM)"
   ]
  },
  {
   "cell_type": "code",
   "execution_count": null,
   "id": "d9ec2cf1",
   "metadata": {},
   "outputs": [],
   "source": [
    "RollBack = pd.concat([RollBack,pd.DataFrame({'LSTM':np.concatenate(lstm_predictions, axis=0)})],axis=1)\n",
    "RollBack.head()"
   ]
  },
  {
   "cell_type": "code",
   "execution_count": null,
   "id": "e2d1d19a",
   "metadata": {},
   "outputs": [],
   "source": [
    "RollBack[['TEST', 'LSTM']].plot(figsize=(20,5), linewidth=2, fontsize=10)\n",
    "plt.xlabel('time', fontsize=15);"
   ]
  },
  {
   "cell_type": "code",
   "execution_count": null,
   "id": "6dbff2e8",
   "metadata": {},
   "outputs": [],
   "source": [
    "RollBack.plot(figsize=(20,5), linewidth=2, fontsize=10)\n",
    "plt.xlabel('time', fontsize=15);"
   ]
  },
  {
   "cell_type": "code",
   "execution_count": null,
   "id": "d1c47c50",
   "metadata": {},
   "outputs": [],
   "source": [
    "RollBack = pd.concat([RollBack,pd.DataFrame({'Time':data.Close.index[size:]})],axis=1)\n",
    "RollBack.head()"
   ]
  },
  {
   "cell_type": "code",
   "execution_count": null,
   "id": "3742e87f",
   "metadata": {},
   "outputs": [],
   "source": [
    "RollBack.set_index('Time', inplace=True)\n",
    "RollBack.head()"
   ]
  },
  {
   "cell_type": "code",
   "execution_count": null,
   "id": "45a0b84c",
   "metadata": {},
   "outputs": [],
   "source": [
    "RollBack.plot(figsize=(20,5), linewidth=2, fontsize=10)\n",
    "plt.xlabel('time', fontsize=15);"
   ]
  },
  {
   "cell_type": "code",
   "execution_count": null,
   "id": "07d3c070",
   "metadata": {},
   "outputs": [],
   "source": [
    "Error = pd.DataFrame({\"Models\":[\"ARIMA\", \"SARIMA\", \"LSTM\"],\n",
    "                      \"RMSE \" : [error_ARIMA, error_SARIMA, error_LSTM]})\n",
    "Error"
   ]
  },
  {
   "cell_type": "code",
   "execution_count": null,
   "id": "e209f00d",
   "metadata": {},
   "outputs": [],
   "source": [
    "Error = pd.DataFrame({\"Modelos\":[\"ARIMA\", \"SARIMA\", \"LSTM\"],\n",
    "                      \"RMSE \" : [error_ARIMA, error_SARIMA, error_LSTM],\n",
    "                      \"MAE \" : [mae_arima, mae_sarima, mae_lstm],\n",
    "                      \"R² \" : [r2_arima, r2_sarima, r2_lstm]})\n",
    "Error"
   ]
  },
  {
   "cell_type": "markdown",
   "id": "4737ab1a",
   "metadata": {},
   "source": [
    "#### 4.3. Prophet Forecast"
   ]
  },
  {
   "cell_type": "code",
   "execution_count": null,
   "id": "c27d8d0a",
   "metadata": {},
   "outputs": [],
   "source": [
    "# Modelado y Forecasting\n",
    "# ==============================================================================\n",
    "from skforecast.ForecasterAutoreg import ForecasterAutoreg\n",
    "from skforecast.model_selection import backtesting_forecaster\n",
    "from lightgbm import LGBMRegressor\n",
    "from sklearn.metrics import mean_absolute_error"
   ]
  },
  {
   "cell_type": "code",
   "execution_count": null,
   "id": "b629e851",
   "metadata": {},
   "outputs": [],
   "source": [
    "# Preparación del dato\n",
    "# ==============================================================================\n",
    "data['date'] = pd.to_datetime(data['date'], format='%Y-%m-%d %H:%M:%S')\n",
    "data = data.loc[:, ['date', 'Open', 'Close', 'High', 'Low']]\n",
    "data = data.rename({'Open': 'open', 'Close': 'close', 'High': 'high', 'Low': 'low'}, \n",
    "                    axis=1)\n",
    "data = data.set_index('date')\n",
    "data = data.asfreq('D')\n",
    "data = data.sort_index()"
   ]
  },
  {
   "cell_type": "code",
   "execution_count": null,
   "id": "6eefb237",
   "metadata": {},
   "outputs": [],
   "source": [
    "# Selección fechas train-test\n",
    "# ==============================================================================\n",
    "inicio_train = '2020-01-01 00:00:00'\n",
    "fin_train = '2021-06-30 23:59:59'\n",
    "\n",
    "print(f\"Serie temporal completa : {data.index.min()} --- {data.index.max()}  (n={len(data)})\")\n",
    "print(f\"Fechas train            : {data.loc[inicio_train:fin_train].index.min()} --- {data.loc[inicio_train:fin_train].index.max()}  (n={len(data.loc[inicio_train:fin_train])})\")\n",
    "print(f\"Fechas test             : {data.loc[fin_train:].index.min()} --- {data.loc[fin_train:].index.max()}  (n={len(data.loc[fin_train:])})\")"
   ]
  },
  {
   "cell_type": "code",
   "execution_count": null,
   "id": "6983c287",
   "metadata": {},
   "outputs": [],
   "source": [
    "# Simulación Random Walk\n",
    "# ==============================================================================\n",
    "df_rw = data[['close']].copy()\n",
    "df_rw['pred_close'] = df_rw['close'].shift(1)\n",
    "\n",
    "# Error de test\n",
    "# ==============================================================================\n",
    "y_true = df_rw.loc[fin_train:, 'close']\n",
    "y_pred = df_rw.loc[fin_train:, 'pred_close']\n",
    "metrica = mean_absolute_error(y_true, y_pred)\n",
    "\n",
    "print(f'Error de test: {metrica}')\n",
    "display(df_rw.loc[fin_train:,].head(4))"
   ]
  },
  {
   "cell_type": "code",
   "execution_count": null,
   "id": "dad1351c",
   "metadata": {},
   "outputs": [],
   "source": [
    "# Gráfico\n",
    "# ==============================================================================\n",
    "fig, ax = plt.subplots(figsize=(11, 4.5))\n",
    "df_rw.loc[fin_train:, 'close'].plot(ax=ax, linewidth=2, label='Datos Test',\n",
    "                                    c='sienna')\n",
    "df_rw.loc[fin_train:, 'pred_close'].plot(ax=ax, linewidth=2, label='Pred Test',\n",
    "                                    c='darkblue')\n",
    "ax.set_title('Random Walk (Datos Test)')\n",
    "ax.set_ylabel('Precio (USD)')\n",
    "ax.legend();"
   ]
  },
  {
   "cell_type": "code",
   "execution_count": null,
   "id": "924717b2",
   "metadata": {},
   "outputs": [],
   "source": [
    "# DataFrame errores test modelos\n",
    "# ==============================================================================\n",
    "df_errores = pd.DataFrame({'modelo': 'Base - Random Walk', 'lags': 1, \n",
    "                           'error_test': metrica, 'variables_exog': False},\n",
    "                          index=[0])\n",
    "df_errores"
   ]
  },
  {
   "cell_type": "markdown",
   "id": "cae6b7b8",
   "metadata": {},
   "source": [
    "### Forecaster Autorregresivo\n",
    "\n",
    "- Para intentar modelar el precio de Bitcoin se utilia un Forecaster Autorregresivo (ForecasterAutoreg) con un regresor LightGBM, una implementación del algoritmo de Gradient Boosting desarrollada por Microsoft que suele conseguir excelentes resultados"
   ]
  },
  {
   "cell_type": "code",
   "execution_count": null,
   "id": "de7b0d1c",
   "metadata": {},
   "outputs": [],
   "source": [
    "# Backtest forecasters con diferentes lags\n",
    "# ==============================================================================\n",
    "lags = [1, 7, 30]\n",
    "metricas = []\n",
    "predicciones_list = []\n",
    "\n",
    "for lag in lags:\n",
    "    \n",
    "    # Crear forecaster\n",
    "    forecaster = ForecasterAutoreg(\n",
    "                     regressor     = LGBMRegressor(random_state=123),\n",
    "                     lags          = lag,\n",
    "                     transformer_y = None\n",
    "                 )\n",
    "    \n",
    "    # Backtest test data 1 step\n",
    "    metrica, predicciones = backtesting_forecaster(\n",
    "                                forecaster         = forecaster,\n",
    "                                y                  = data.loc[inicio_train:, 'close'],\n",
    "                                initial_train_size = len(data.loc[inicio_train:fin_train, 'close']),\n",
    "                                fixed_train_size   = True,\n",
    "                                steps              = 1,\n",
    "                                refit              = True,\n",
    "                                metric             = 'mean_absolute_error',\n",
    "                                verbose            = False\n",
    "                            )\n",
    "    \n",
    "    metricas.append(metrica)\n",
    "    predicciones_list.append(predicciones)"
   ]
  },
  {
   "cell_type": "code",
   "execution_count": null,
   "id": "59e2e6de",
   "metadata": {},
   "outputs": [],
   "source": [
    "# Gráfico\n",
    "# ==============================================================================\n",
    "fig, ax = plt.subplots(figsize=(11, 4.5))\n",
    "data.loc[fin_train:, 'close'].plot(ax=ax, linewidth=2, label='Datos Test')\n",
    "\n",
    "# Plot predicciones test para diferentes lags\n",
    "for predicciones, lag in zip(predicciones_list, lags):\n",
    "    predicciones = predicciones.rename(columns={'pred': f'Pred test, {lag} lags'})\n",
    "    predicciones.plot(ax=ax, linewidth=2)\n",
    "\n",
    "ax.set_title('Close Price Real vs Predicciones (Datos Test)')\n",
    "ax.set_ylabel('Precio (USD)')\n",
    "ax.legend();"
   ]
  },
  {
   "cell_type": "code",
   "execution_count": null,
   "id": "84c5e89a",
   "metadata": {},
   "outputs": [],
   "source": [
    "import plotly.graph_objects as go\n",
    "import plotly.io as pio\n",
    "\n",
    "# Código para generar el gráfico\n",
    "\n",
    "fig = go.Figure()\n",
    "\n",
    "fig.add_trace(go.Scatter(x=data[fin_train:].index, y=data['close'][fin_train:],\n",
    "                         mode='lines', name='Datos Test'))\n",
    "\n",
    "# Plot predicciones test para diferentes lags\n",
    "for predicciones, lag in zip(predicciones_list, lags):\n",
    "    fig.add_trace(go.Scatter(x=predicciones.index, y=predicciones['pred'],\n",
    "                             mode='lines', name=f'Pred test, {lag} lags'))\n",
    "\n",
    "fig.update_layout(title='Close Price Real vs Predicciones (Datos Test)',\n",
    "                  yaxis_title='Precio (USD)')\n",
    "\n",
    "# Renderizar y mostrar el gráfico interactivo\n",
    "pio.show(fig)\n"
   ]
  },
  {
   "cell_type": "code",
   "execution_count": null,
   "id": "e2f57ba8",
   "metadata": {},
   "outputs": [],
   "source": [
    "# DataFrame errores de test modelos\n",
    "# ==============================================================================\n",
    "modelo = 'LGBMRegressor'\n",
    "\n",
    "df_errores = pd.concat([\n",
    "                df_errores,\n",
    "                pd.DataFrame({'modelo': modelo, 'lags': lags, \n",
    "                              'error_test': metricas, 'variables_exog': False})\n",
    "                ]).reset_index(drop=True)\n",
    "\n",
    "df_errores.sort_values(by='error_test')"
   ]
  },
  {
   "cell_type": "code",
   "execution_count": null,
   "id": "348e3e33",
   "metadata": {},
   "outputs": [],
   "source": []
  },
  {
   "cell_type": "code",
   "execution_count": null,
   "id": "818b8472",
   "metadata": {},
   "outputs": [],
   "source": []
  },
  {
   "cell_type": "code",
   "execution_count": null,
   "id": "f9e35308",
   "metadata": {},
   "outputs": [],
   "source": []
  },
  {
   "cell_type": "code",
   "execution_count": null,
   "id": "beba493f",
   "metadata": {},
   "outputs": [],
   "source": []
  },
  {
   "cell_type": "code",
   "execution_count": null,
   "id": "161750b7",
   "metadata": {},
   "outputs": [],
   "source": []
  },
  {
   "cell_type": "code",
   "execution_count": null,
   "id": "e69a3608",
   "metadata": {},
   "outputs": [],
   "source": []
  }
 ],
 "metadata": {
  "kernelspec": {
   "display_name": "Python 3 (ipykernel)",
   "language": "python",
   "name": "python3"
  },
  "language_info": {
   "codemirror_mode": {
    "name": "ipython",
    "version": 3
   },
   "file_extension": ".py",
   "mimetype": "text/x-python",
   "name": "python",
   "nbconvert_exporter": "python",
   "pygments_lexer": "ipython3",
   "version": "3.9.7"
  }
 },
 "nbformat": 4,
 "nbformat_minor": 5
}
